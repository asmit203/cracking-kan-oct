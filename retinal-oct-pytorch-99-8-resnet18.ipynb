{
 "cells": [
  {
   "cell_type": "markdown",
   "id": "ca9faa1b",
   "metadata": {
    "papermill": {
     "duration": 0.0105,
     "end_time": "2022-12-24T20:12:41.364069",
     "exception": false,
     "start_time": "2022-12-24T20:12:41.353569",
     "status": "completed"
    },
    "tags": []
   },
   "source": [
    "### Import tensorflow and relevant libraries"
   ]
  },
  {
   "cell_type": "code",
   "execution_count": 1,
   "id": "07a6d826",
   "metadata": {
    "_cell_guid": "b1076dfc-b9ad-4769-8c92-a6c4dae69d19",
    "_uuid": "8f2839f25d086af736a60e9eeb907d3b93b6e0e5",
    "execution": {
     "iopub.execute_input": "2022-12-24T20:12:41.467800Z",
     "iopub.status.busy": "2022-12-24T20:12:41.467096Z",
     "iopub.status.idle": "2022-12-24T20:12:46.343488Z",
     "shell.execute_reply": "2022-12-24T20:12:46.342856Z",
     "shell.execute_reply.started": "2022-12-24T18:28:35.431888Z"
    },
    "papermill": {
     "duration": 4.968545,
     "end_time": "2022-12-24T20:12:46.343656",
     "exception": false,
     "start_time": "2022-12-24T20:12:41.375111",
     "status": "completed"
    },
    "tags": []
   },
   "outputs": [],
   "source": [
    "import torch\n",
    "import torch.nn as nn\n",
    "import torch.optim as optim\n",
    "import torchvision\n",
    "import torchvision.transforms as T\n",
    "from torchvision import models\n",
    "import os\n",
    "import pandas as pd\n",
    "from torchvision.io import read_image\n",
    "from torch.utils.data import Dataset\n",
    "from torchvision import datasets\n",
    "from torchvision.transforms import ToTensor\n",
    "import matplotlib.pyplot as plt\n",
    "import time\n",
    "import copy\n",
    "from tqdm import tqdm"
   ]
  },
  {
   "cell_type": "markdown",
   "id": "2d043575",
   "metadata": {
    "papermill": {
     "duration": 0.008838,
     "end_time": "2022-12-24T20:12:46.362043",
     "exception": false,
     "start_time": "2022-12-24T20:12:46.353205",
     "status": "completed"
    },
    "tags": []
   },
   "source": [
    "### Load the dataset"
   ]
  },
  {
   "cell_type": "code",
   "execution_count": 2,
   "id": "5b730429",
   "metadata": {
    "execution": {
     "iopub.execute_input": "2022-12-24T20:12:46.391513Z",
     "iopub.status.busy": "2022-12-24T20:12:46.389755Z",
     "iopub.status.idle": "2022-12-24T20:12:46.392354Z",
     "shell.execute_reply": "2022-12-24T20:12:46.392877Z",
     "shell.execute_reply.started": "2022-12-24T18:28:35.442886Z"
    },
    "papermill": {
     "duration": 0.021536,
     "end_time": "2022-12-24T20:12:46.393020",
     "exception": false,
     "start_time": "2022-12-24T20:12:46.371484",
     "status": "completed"
    },
    "tags": []
   },
   "outputs": [],
   "source": [
    "class CustomImageDataset(Dataset):\n",
    "    def __init__(self, ds_path, transforms=None, target_transform=None):\n",
    "        self.ds_path = ds_path\n",
    "        self.transforms = transforms\n",
    "        self.target_transform = target_transform\n",
    "        self.labels = os.listdir(ds_path)\n",
    "        img_paths = []\n",
    "        \n",
    "        for i in self.labels:\n",
    "            base_path = os.path.join(ds_path, i)\n",
    "            imgs = os.listdir(base_path)\n",
    "            for img in imgs:\n",
    "                img_path = base_path + '/' + img\n",
    "                img_paths.append(img_path)\n",
    "                \n",
    "        self.img_paths = img_paths\n",
    "        self.label_map = {'CNV':0, 'DME':1, 'DRUSEN':2, 'NORMAL':3,}\n",
    "\n",
    "    def __len__(self):\n",
    "        return len(self.img_paths)\n",
    "\n",
    "    def __getitem__(self, idx):\n",
    "        img_path = self.img_paths[idx]\n",
    "        image = read_image(img_path)\n",
    "        label = img_path.split('/')[-2]\n",
    "        image = image.squeeze()\n",
    "        image = image.repeat(3, 1, 1)\n",
    "        image = image / 255.0\n",
    "        if self.transforms:\n",
    "            image = self.transforms(image)\n",
    "        if self.target_transform:\n",
    "            label = self.target_transform(label)\n",
    "            \n",
    "        image = T.Resize((224, 224))(image)\n",
    "        \n",
    "        return image, self.label_map[label]"
   ]
  },
  {
   "cell_type": "code",
   "execution_count": 3,
   "id": "b0d868bc",
   "metadata": {
    "execution": {
     "iopub.execute_input": "2022-12-24T20:12:46.414475Z",
     "iopub.status.busy": "2022-12-24T20:12:46.413968Z",
     "iopub.status.idle": "2022-12-24T20:12:47.676627Z",
     "shell.execute_reply": "2022-12-24T20:12:47.676021Z",
     "shell.execute_reply.started": "2022-12-24T18:28:35.456867Z"
    },
    "papermill": {
     "duration": 1.274858,
     "end_time": "2022-12-24T20:12:47.676778",
     "exception": false,
     "start_time": "2022-12-24T20:12:46.401920",
     "status": "completed"
    },
    "tags": []
   },
   "outputs": [],
   "source": [
    "# Load training dataset\n",
    "train_path = '/kaggle/input/kermany2018/OCT2017 /train'\n",
    "train_data = CustomImageDataset(train_path)\n",
    "\n",
    "# Load validation dataset\n",
    "val_path = '/kaggle/input/kermany2018/OCT2017 /val'\n",
    "val_data = CustomImageDataset(val_path)\n",
    "\n",
    "# Load test dataset\n",
    "test_path = '/kaggle/input/kermany2018/OCT2017 /test'\n",
    "test_data = CustomImageDataset(test_path)"
   ]
  },
  {
   "cell_type": "code",
   "execution_count": 4,
   "id": "39973505",
   "metadata": {
    "execution": {
     "iopub.execute_input": "2022-12-24T20:12:47.705243Z",
     "iopub.status.busy": "2022-12-24T20:12:47.704313Z",
     "iopub.status.idle": "2022-12-24T20:12:47.706675Z",
     "shell.execute_reply": "2022-12-24T20:12:47.707115Z",
     "shell.execute_reply.started": "2022-12-24T18:28:35.521551Z"
    },
    "papermill": {
     "duration": 0.01932,
     "end_time": "2022-12-24T20:12:47.707264",
     "exception": false,
     "start_time": "2022-12-24T20:12:47.687944",
     "status": "completed"
    },
    "tags": []
   },
   "outputs": [],
   "source": [
    "from torch.utils.data import DataLoader\n",
    "\n",
    "train_len = len(train_data)\n",
    "train_dataloader = DataLoader(train_data, batch_size=64, shuffle=True)\n",
    "\n",
    "val_len = len(val_data)\n",
    "val_dataloader = DataLoader(val_data, batch_size=64, shuffle=True)\n",
    "\n",
    "test_len = len(test_data)\n",
    "test_dataloader = DataLoader(test_data, batch_size=8)\n",
    "\n",
    "data_loaders = {'train':train_dataloader, 'val':val_dataloader}"
   ]
  },
  {
   "cell_type": "code",
   "execution_count": 5,
   "id": "46f519b7",
   "metadata": {
    "execution": {
     "iopub.execute_input": "2022-12-24T20:12:47.734918Z",
     "iopub.status.busy": "2022-12-24T20:12:47.734204Z",
     "iopub.status.idle": "2022-12-24T20:12:48.775767Z",
     "shell.execute_reply": "2022-12-24T20:12:48.775244Z",
     "shell.execute_reply.started": "2022-12-24T18:28:35.532636Z"
    },
    "papermill": {
     "duration": 1.058061,
     "end_time": "2022-12-24T20:12:48.775905",
     "exception": false,
     "start_time": "2022-12-24T20:12:47.717844",
     "status": "completed"
    },
    "tags": []
   },
   "outputs": [
    {
     "name": "stdout",
     "output_type": "stream",
     "text": [
      "Feature batch shape: torch.Size([64, 3, 224, 224])\n",
      "Labels batch shape: torch.Size([64])\n"
     ]
    },
    {
     "data": {
      "image/png": "[encoded data removed]",
      "text/plain": [
       "<Figure size 432x288 with 1 Axes>"
      ]
     },
     "metadata": {
      "needs_background": "light"
     },
     "output_type": "display_data"
    },
    {
     "name": "stdout",
     "output_type": "stream",
     "text": [
      "Label: 3\n"
     ]
    }
   ],
   "source": [
    "train_features, train_labels = next(iter(train_dataloader))\n",
    "print(f\"Feature batch shape: {train_features.size()}\")\n",
    "print(f\"Labels batch shape: {train_labels.size()}\")\n",
    "img = train_features[0].squeeze()\n",
    "label = train_labels[0]\n",
    "plt.imshow(img.permute(1, 2, 0))\n",
    "plt.show()\n",
    "print(f\"Label: {label}\")"
   ]
  },
  {
   "cell_type": "code",
   "execution_count": 6,
   "id": "4c9df0f0",
   "metadata": {
    "execution": {
     "iopub.execute_input": "2022-12-24T20:12:48.868217Z",
     "iopub.status.busy": "2022-12-24T20:12:48.867433Z",
     "iopub.status.idle": "2022-12-24T20:12:48.870271Z",
     "shell.execute_reply": "2022-12-24T20:12:48.870743Z",
     "shell.execute_reply.started": "2022-12-24T18:28:36.134837Z"
    },
    "papermill": {
     "duration": 0.083242,
     "end_time": "2022-12-24T20:12:48.870893",
     "exception": false,
     "start_time": "2022-12-24T20:12:48.787651",
     "status": "completed"
    },
    "tags": []
   },
   "outputs": [
    {
     "data": {
      "text/plain": [
       "device(type='cuda', index=0)"
      ]
     },
     "execution_count": 6,
     "metadata": {},
     "output_type": "execute_result"
    }
   ],
   "source": [
    "device = torch.device(\"cuda:0\" if torch.cuda.is_available() else \"cpu\")\n",
    "device"
   ]
  },
  {
   "cell_type": "markdown",
   "id": "1f391171",
   "metadata": {
    "papermill": {
     "duration": 0.011403,
     "end_time": "2022-12-24T20:12:48.894978",
     "exception": false,
     "start_time": "2022-12-24T20:12:48.883575",
     "status": "completed"
    },
    "tags": []
   },
   "source": [
    "## Create Training function"
   ]
  },
  {
   "cell_type": "code",
   "execution_count": 7,
   "id": "bbd1b4b6",
   "metadata": {
    "execution": {
     "iopub.execute_input": "2022-12-24T20:12:48.927254Z",
     "iopub.status.busy": "2022-12-24T20:12:48.926452Z",
     "iopub.status.idle": "2022-12-24T20:12:48.928561Z",
     "shell.execute_reply": "2022-12-24T20:12:48.928940Z",
     "shell.execute_reply.started": "2022-12-24T18:28:36.144707Z"
    },
    "papermill": {
     "duration": 0.022408,
     "end_time": "2022-12-24T20:12:48.929073",
     "exception": false,
     "start_time": "2022-12-24T20:12:48.906665",
     "status": "completed"
    },
    "tags": []
   },
   "outputs": [],
   "source": [
    "def train_model(model, criterion, optimizer, num_epochs=3):\n",
    "    since = time.time()\n",
    "    \n",
    "    best_acc = 0.0\n",
    "    \n",
    "    for epoch in range(num_epochs):\n",
    "        print('Epoch {}/{}'.format(epoch + 1, num_epochs))\n",
    "        print('-' * 10)\n",
    "        for mode, data_loader in data_loaders.items():\n",
    "            if mode == 'train':\n",
    "                model.train()\n",
    "            else:\n",
    "                model.eval()\n",
    "\n",
    "            running_loss = 0.0\n",
    "            running_correct = 0\n",
    "\n",
    "            # Iterate over batches\n",
    "            for inputs, labels in tqdm(data_loader):\n",
    "                inputs = inputs.to(device)\n",
    "                labels = labels.to(device)\n",
    "\n",
    "                with torch.set_grad_enabled(mode == 'train'):\n",
    "                    outputs = model(inputs)\n",
    "                    _, preds = torch.max(outputs, 1)\n",
    "                    loss = criterion(outputs, labels)\n",
    "                    if mode == 'train':\n",
    "                        optimizer.zero_grad()\n",
    "                        loss.backward()\n",
    "                        optimizer.step()\n",
    "\n",
    "                running_loss += loss.item() * inputs.size(0)\n",
    "                running_correct += torch.sum(preds==labels.data)\n",
    "            \n",
    "            data_len = train_len\n",
    "            \n",
    "            if mode == 'val':\n",
    "                data_len = val_len\n",
    "            \n",
    "            epoch_loss = running_loss / data_len\n",
    "            epoch_acc = running_correct.double() / data_len\n",
    "\n",
    "            print('{} loss: {:4f} acc: {:4f}'.format(mode, epoch_loss, epoch_acc))\n",
    "        \n",
    "    "
   ]
  },
  {
   "cell_type": "markdown",
   "id": "03428ea6",
   "metadata": {
    "papermill": {
     "duration": 0.011083,
     "end_time": "2022-12-24T20:12:48.951371",
     "exception": false,
     "start_time": "2022-12-24T20:12:48.940288",
     "status": "completed"
    },
    "tags": []
   },
   "source": [
    "## Defining model"
   ]
  },
  {
   "cell_type": "code",
   "execution_count": 8,
   "id": "b0dea02a",
   "metadata": {
    "execution": {
     "iopub.execute_input": "2022-12-24T20:12:48.979119Z",
     "iopub.status.busy": "2022-12-24T20:12:48.978461Z",
     "iopub.status.idle": "2022-12-24T20:12:48.981123Z",
     "shell.execute_reply": "2022-12-24T20:12:48.981581Z",
     "shell.execute_reply.started": "2022-12-24T18:28:36.156170Z"
    },
    "papermill": {
     "duration": 0.018998,
     "end_time": "2022-12-24T20:12:48.981709",
     "exception": false,
     "start_time": "2022-12-24T20:12:48.962711",
     "status": "completed"
    },
    "tags": []
   },
   "outputs": [
    {
     "data": {
      "text/plain": [
       "(83484, 32, 968)"
      ]
     },
     "execution_count": 8,
     "metadata": {},
     "output_type": "execute_result"
    }
   ],
   "source": [
    "train_len, val_len, test_len"
   ]
  },
  {
   "cell_type": "code",
   "execution_count": 9,
   "id": "b768aeef",
   "metadata": {
    "execution": {
     "iopub.execute_input": "2022-12-24T20:12:49.012559Z",
     "iopub.status.busy": "2022-12-24T20:12:49.012002Z",
     "iopub.status.idle": "2022-12-24T20:12:56.500783Z",
     "shell.execute_reply": "2022-12-24T20:12:56.501230Z",
     "shell.execute_reply.started": "2022-12-24T18:28:36.172689Z"
    },
    "papermill": {
     "duration": 7.508239,
     "end_time": "2022-12-24T20:12:56.501448",
     "exception": false,
     "start_time": "2022-12-24T20:12:48.993209",
     "status": "completed"
    },
    "tags": []
   },
   "outputs": [
    {
     "name": "stderr",
     "output_type": "stream",
     "text": [
      "Downloading: \"https://download.pytorch.org/models/resnet18-5c106cde.pth\" to /root/.cache/torch/hub/checkpoints/resnet18-5c106cde.pth\n"
     ]
    },
    {
     "data": {
      "application/vnd.jupyter.widget-view+json": {
       "model_id": "24599cc1d4064302ba883673b324f2c3",
       "version_major": 2,
       "version_minor": 0
      },
      "text/plain": [
       "  0%|          | 0.00/44.7M [00:00<?, ?B/s]"
      ]
     },
     "metadata": {},
     "output_type": "display_data"
    }
   ],
   "source": [
    "model = models.resnet18(pretrained=True)\n",
    "num_ftrs = model.fc.in_features\n",
    "model.fc = nn.Linear(num_ftrs, 10)\n",
    "\n",
    "model.to(device)\n",
    "criterion = nn.CrossEntropyLoss()\n",
    "\n",
    "optimizer = optim.Adam(model.parameters(), lr=0.001)"
   ]
  },
  {
   "cell_type": "code",
   "execution_count": 10,
   "id": "aed2ecf6",
   "metadata": {
    "execution": {
     "iopub.execute_input": "2022-12-24T20:12:56.532015Z",
     "iopub.status.busy": "2022-12-24T20:12:56.531334Z",
     "iopub.status.idle": "2022-12-24T21:59:03.459103Z",
     "shell.execute_reply": "2022-12-24T21:59:03.459701Z",
     "shell.execute_reply.started": "2022-12-24T18:28:36.490624Z"
    },
    "papermill": {
     "duration": 6366.945714,
     "end_time": "2022-12-24T21:59:03.459915",
     "exception": false,
     "start_time": "2022-12-24T20:12:56.514201",
     "status": "completed"
    },
    "tags": []
   },
   "outputs": [
    {
     "name": "stdout",
     "output_type": "stream",
     "text": [
      "Epoch 1/10\n",
      "----------\n"
     ]
    },
    {
     "name": "stderr",
     "output_type": "stream",
     "text": [
      "100%|██████████| 1305/1305 [16:47<00:00,  1.30it/s]\n"
     ]
    },
    {
     "name": "stdout",
     "output_type": "stream",
     "text": [
      "train loss: 0.197729 acc: 0.934407\n"
     ]
    },
    {
     "name": "stderr",
     "output_type": "stream",
     "text": [
      "100%|██████████| 1/1 [00:00<00:00,  3.23it/s]\n"
     ]
    },
    {
     "name": "stdout",
     "output_type": "stream",
     "text": [
      "val loss: 0.161058 acc: 0.906250\n",
      "Epoch 2/10\n",
      "----------\n"
     ]
    },
    {
     "name": "stderr",
     "output_type": "stream",
     "text": [
      "100%|██████████| 1305/1305 [10:04<00:00,  2.16it/s]\n"
     ]
    },
    {
     "name": "stdout",
     "output_type": "stream",
     "text": [
      "train loss: 0.133178 acc: 0.954566\n"
     ]
    },
    {
     "name": "stderr",
     "output_type": "stream",
     "text": [
      "100%|██████████| 1/1 [00:00<00:00,  5.77it/s]\n"
     ]
    },
    {
     "name": "stdout",
     "output_type": "stream",
     "text": [
      "val loss: 0.075461 acc: 1.000000\n",
      "Epoch 3/10\n",
      "----------\n"
     ]
    },
    {
     "name": "stderr",
     "output_type": "stream",
     "text": [
      "100%|██████████| 1305/1305 [09:54<00:00,  2.20it/s]\n"
     ]
    },
    {
     "name": "stdout",
     "output_type": "stream",
     "text": [
      "train loss: 0.109112 acc: 0.962915\n"
     ]
    },
    {
     "name": "stderr",
     "output_type": "stream",
     "text": [
      "100%|██████████| 1/1 [00:00<00:00,  6.12it/s]\n"
     ]
    },
    {
     "name": "stdout",
     "output_type": "stream",
     "text": [
      "val loss: 0.045358 acc: 0.968750\n",
      "Epoch 4/10\n",
      "----------\n"
     ]
    },
    {
     "name": "stderr",
     "output_type": "stream",
     "text": [
      "100%|██████████| 1305/1305 [09:38<00:00,  2.25it/s]\n"
     ]
    },
    {
     "name": "stdout",
     "output_type": "stream",
     "text": [
      "train loss: 0.094107 acc: 0.967539\n"
     ]
    },
    {
     "name": "stderr",
     "output_type": "stream",
     "text": [
      "100%|██████████| 1/1 [00:00<00:00,  6.50it/s]\n"
     ]
    },
    {
     "name": "stdout",
     "output_type": "stream",
     "text": [
      "val loss: 0.027706 acc: 1.000000\n",
      "Epoch 5/10\n",
      "----------\n"
     ]
    },
    {
     "name": "stderr",
     "output_type": "stream",
     "text": [
      "100%|██████████| 1305/1305 [09:57<00:00,  2.18it/s]\n"
     ]
    },
    {
     "name": "stdout",
     "output_type": "stream",
     "text": [
      "train loss: 0.076797 acc: 0.973157\n"
     ]
    },
    {
     "name": "stderr",
     "output_type": "stream",
     "text": [
      "100%|██████████| 1/1 [00:00<00:00,  6.22it/s]\n"
     ]
    },
    {
     "name": "stdout",
     "output_type": "stream",
     "text": [
      "val loss: 0.043634 acc: 0.968750\n",
      "Epoch 6/10\n",
      "----------\n"
     ]
    },
    {
     "name": "stderr",
     "output_type": "stream",
     "text": [
      "100%|██████████| 1305/1305 [09:57<00:00,  2.19it/s]\n"
     ]
    },
    {
     "name": "stdout",
     "output_type": "stream",
     "text": [
      "train loss: 0.063644 acc: 0.977972\n"
     ]
    },
    {
     "name": "stderr",
     "output_type": "stream",
     "text": [
      "100%|██████████| 1/1 [00:00<00:00,  5.67it/s]\n"
     ]
    },
    {
     "name": "stdout",
     "output_type": "stream",
     "text": [
      "val loss: 0.028500 acc: 1.000000\n",
      "Epoch 7/10\n",
      "----------\n"
     ]
    },
    {
     "name": "stderr",
     "output_type": "stream",
     "text": [
      "100%|██████████| 1305/1305 [09:52<00:00,  2.20it/s]\n"
     ]
    },
    {
     "name": "stdout",
     "output_type": "stream",
     "text": [
      "train loss: 0.053975 acc: 0.980942\n"
     ]
    },
    {
     "name": "stderr",
     "output_type": "stream",
     "text": [
      "100%|██████████| 1/1 [00:00<00:00,  6.19it/s]\n"
     ]
    },
    {
     "name": "stdout",
     "output_type": "stream",
     "text": [
      "val loss: 0.010490 acc: 1.000000\n",
      "Epoch 8/10\n",
      "----------\n"
     ]
    },
    {
     "name": "stderr",
     "output_type": "stream",
     "text": [
      "100%|██████████| 1305/1305 [09:53<00:00,  2.20it/s]\n"
     ]
    },
    {
     "name": "stdout",
     "output_type": "stream",
     "text": [
      "train loss: 0.043672 acc: 0.985111\n"
     ]
    },
    {
     "name": "stderr",
     "output_type": "stream",
     "text": [
      "100%|██████████| 1/1 [00:00<00:00,  6.09it/s]\n"
     ]
    },
    {
     "name": "stdout",
     "output_type": "stream",
     "text": [
      "val loss: 0.005956 acc: 1.000000\n",
      "Epoch 9/10\n",
      "----------\n"
     ]
    },
    {
     "name": "stderr",
     "output_type": "stream",
     "text": [
      "100%|██████████| 1305/1305 [10:04<00:00,  2.16it/s]\n"
     ]
    },
    {
     "name": "stdout",
     "output_type": "stream",
     "text": [
      "train loss: 0.037629 acc: 0.987147\n"
     ]
    },
    {
     "name": "stderr",
     "output_type": "stream",
     "text": [
      "100%|██████████| 1/1 [00:00<00:00,  6.23it/s]\n"
     ]
    },
    {
     "name": "stdout",
     "output_type": "stream",
     "text": [
      "val loss: 0.014543 acc: 1.000000\n",
      "Epoch 10/10\n",
      "----------\n"
     ]
    },
    {
     "name": "stderr",
     "output_type": "stream",
     "text": [
      "100%|██████████| 1305/1305 [09:53<00:00,  2.20it/s]\n"
     ]
    },
    {
     "name": "stdout",
     "output_type": "stream",
     "text": [
      "train loss: 0.034859 acc: 0.987279\n"
     ]
    },
    {
     "name": "stderr",
     "output_type": "stream",
     "text": [
      "100%|██████████| 1/1 [00:00<00:00,  6.35it/s]"
     ]
    },
    {
     "name": "stdout",
     "output_type": "stream",
     "text": [
      "val loss: 0.002767 acc: 1.000000\n"
     ]
    },
    {
     "name": "stderr",
     "output_type": "stream",
     "text": [
      "\n"
     ]
    }
   ],
   "source": [
    "train_model(model, criterion, optimizer, num_epochs=10)"
   ]
  },
  {
   "cell_type": "code",
   "execution_count": 11,
   "id": "0313dd15",
   "metadata": {
    "execution": {
     "iopub.execute_input": "2022-12-24T21:59:09.882178Z",
     "iopub.status.busy": "2022-12-24T21:59:09.881043Z",
     "iopub.status.idle": "2022-12-24T21:59:19.250794Z",
     "shell.execute_reply": "2022-12-24T21:59:19.251221Z",
     "shell.execute_reply.started": "2022-12-24T20:07:23.656981Z"
    },
    "papermill": {
     "duration": 12.501231,
     "end_time": "2022-12-24T21:59:19.251388",
     "exception": false,
     "start_time": "2022-12-24T21:59:06.750157",
     "status": "completed"
    },
    "tags": []
   },
   "outputs": [
    {
     "name": "stderr",
     "output_type": "stream",
     "text": [
      "100%|██████████| 121/121 [00:09<00:00, 12.92it/s]"
     ]
    },
    {
     "name": "stdout",
     "output_type": "stream",
     "text": [
      "test loss: 0.012862 acc: 0.996901\n"
     ]
    },
    {
     "name": "stderr",
     "output_type": "stream",
     "text": [
      "\n"
     ]
    }
   ],
   "source": [
    "running_loss = 0.0\n",
    "running_correct = 0\n",
    "\n",
    "# Iterate over batches\n",
    "for inputs, labels in tqdm(test_dataloader):\n",
    "    inputs = inputs.to(device)\n",
    "    labels = labels.to(device)\n",
    "\n",
    "    with torch.set_grad_enabled(False):\n",
    "        outputs = model(inputs)\n",
    "        _, preds = torch.max(outputs, 1)\n",
    "        loss = criterion(outputs, labels)\n",
    "\n",
    "    running_loss += loss.item() * inputs.size(0)\n",
    "    running_correct += torch.sum(preds==labels.data)\n",
    "    \n",
    "epoch_loss = running_loss / test_len\n",
    "epoch_acc = running_correct.double() / test_len\n",
    "\n",
    "print('{} loss: {:4f} acc: {:4f}'.format('test', epoch_loss, epoch_acc))"
   ]
  }
 ],
 "metadata": {
  "kernelspec": {
   "display_name": "Python 3",
   "language": "python",
   "name": "python3"
  },
  "language_info": {
   "codemirror_mode": {
    "name": "ipython",
    "version": 3
   },
   "file_extension": ".py",
   "mimetype": "text/x-python",
   "name": "python",
   "nbconvert_exporter": "python",
   "pygments_lexer": "ipython3",
   "version": "3.7.10"
  },
  "papermill": {
   "default_parameters": {},
   "duration": 6409.15572,
   "end_time": "2022-12-24T21:59:24.087837",
   "environment_variables": {},
   "exception": null,
   "input_path": "__notebook__.ipynb",
   "output_path": "__notebook__.ipynb",
   "parameters": {},
   "start_time": "2022-12-24T20:12:34.932117",
   "version": "2.3.3"
  },
  "widgets": {
   "application/vnd.jupyter.widget-state+json": {
    "state": {
     "03310b2469c749f28d28c2073c531437": {
      "model_module": "@jupyter-widgets/base",
      "model_module_version": "1.2.0",
      "model_name": "LayoutModel",
      "state": {
       "_model_module": "@jupyter-widgets/base",
       "_model_module_version": "1.2.0",
       "_model_name": "LayoutModel",
       "_view_count": null,
       "_view_module": "@jupyter-widgets/base",
       "_view_module_version": "1.2.0",
       "_view_name": "LayoutView",
       "align_content": null,
       "align_items": null,
       "align_self": null,
       "border": null,
       "bottom": null,
       "display": null,
       "flex": null,
       "flex_flow": null,
       "grid_area": null,
       "grid_auto_columns": null,
       "grid_auto_flow": null,
       "grid_auto_rows": null,
       "grid_column": null,
       "grid_gap": null,
       "grid_row": null,
       "grid_template_areas": null,
       "grid_template_columns": null,
       "grid_template_rows": null,
       "height": null,
       "justify_content": null,
       "justify_items": null,
       "left": null,
       "margin": null,
       "max_height": null,
       "max_width": null,
       "min_height": null,
       "min_width": null,
       "object_fit": null,
       "object_position": null,
       "order": null,
       "overflow": null,
       "overflow_x": null,
       "overflow_y": null,
       "padding": null,
       "right": null,
       "top": null,
       "visibility": null,
       "width": null
      }
     },
     "0da6674ccca24f33b5ae92486c0513bb": {
      "model_module": "@jupyter-widgets/controls",
      "model_module_version": "1.5.0",
      "model_name": "FloatProgressModel",
      "state": {
       "_dom_classes": [],
       "_model_module": "@jupyter-widgets/controls",
       "_model_module_version": "1.5.0",
       "_model_name": "FloatProgressModel",
       "_view_count": null,
       "_view_module": "@jupyter-widgets/controls",
       "_view_module_version": "1.5.0",
       "_view_name": "ProgressView",
       "bar_style": "success",
       "description": "",
       "description_tooltip": null,
       "layout": "IPY_MODEL_6db3273180f04c9b8419f1eecf470128",
       "max": 46827520.0,
       "min": 0.0,
       "orientation": "horizontal",
       "style": "IPY_MODEL_da831c4921684efa88eff8f30cf092e2",
       "value": 46827520.0
      }
     },
     "1999825cf6c044f8aec47dbaa9a453fb": {
      "model_module": "@jupyter-widgets/base",
      "model_module_version": "1.2.0",
      "model_name": "LayoutModel",
      "state": {
       "_model_module": "@jupyter-widgets/base",
       "_model_module_version": "1.2.0",
       "_model_name": "LayoutModel",
       "_view_count": null,
       "_view_module": "@jupyter-widgets/base",
       "_view_module_version": "1.2.0",
       "_view_name": "LayoutView",
       "align_content": null,
       "align_items": null,
       "align_self": null,
       "border": null,
       "bottom": null,
       "display": null,
       "flex": null,
       "flex_flow": null,
       "grid_area": null,
       "grid_auto_columns": null,
       "grid_auto_flow": null,
       "grid_auto_rows": null,
       "grid_column": null,
       "grid_gap": null,
       "grid_row": null,
       "grid_template_areas": null,
       "grid_template_columns": null,
       "grid_template_rows": null,
       "height": null,
       "justify_content": null,
       "justify_items": null,
       "left": null,
       "margin": null,
       "max_height": null,
       "max_width": null,
       "min_height": null,
       "min_width": null,
       "object_fit": null,
       "object_position": null,
       "order": null,
       "overflow": null,
       "overflow_x": null,
       "overflow_y": null,
       "padding": null,
       "right": null,
       "top": null,
       "visibility": null,
       "width": null
      }
     },
     "24599cc1d4064302ba883673b324f2c3": {
      "model_module": "@jupyter-widgets/controls",
      "model_module_version": "1.5.0",
      "model_name": "HBoxModel",
      "state": {
       "_dom_classes": [],
       "_model_module": "@jupyter-widgets/controls",
       "_model_module_version": "1.5.0",
       "_model_name": "HBoxModel",
       "_view_count": null,
       "_view_module": "@jupyter-widgets/controls",
       "_view_module_version": "1.5.0",
       "_view_name": "HBoxView",
       "box_style": "",
       "children": [
        "IPY_MODEL_e94350db34d54b85b88234e3910497d0",
        "IPY_MODEL_0da6674ccca24f33b5ae92486c0513bb",
        "IPY_MODEL_426f52b099634f75a68c3527ea1704d9"
       ],
       "layout": "IPY_MODEL_527604c54c904c728c8bd84abc943283"
      }
     },
     "426f52b099634f75a68c3527ea1704d9": {
      "model_module": "@jupyter-widgets/controls",
      "model_module_version": "1.5.0",
      "model_name": "HTMLModel",
      "state": {
       "_dom_classes": [],
       "_model_module": "@jupyter-widgets/controls",
       "_model_module_version": "1.5.0",
       "_model_name": "HTMLModel",
       "_view_count": null,
       "_view_module": "@jupyter-widgets/controls",
       "_view_module_version": "1.5.0",
       "_view_name": "HTMLView",
       "description": "",
       "description_tooltip": null,
       "layout": "IPY_MODEL_1999825cf6c044f8aec47dbaa9a453fb",
       "placeholder": "​",
       "style": "IPY_MODEL_ce06f8a5cac043bd97ba7f18c5759e78",
       "value": " 44.7M/44.7M [00:01&lt;00:00, 52.2MB/s]"
      }
     },
     "527604c54c904c728c8bd84abc943283": {
      "model_module": "@jupyter-widgets/base",
      "model_module_version": "1.2.0",
      "model_name": "LayoutModel",
      "state": {
       "_model_module": "@jupyter-widgets/base",
       "_model_module_version": "1.2.0",
       "_model_name": "LayoutModel",
       "_view_count": null,
       "_view_module": "@jupyter-widgets/base",
       "_view_module_version": "1.2.0",
       "_view_name": "LayoutView",
       "align_content": null,
       "align_items": null,
       "align_self": null,
       "border": null,
       "bottom": null,
       "display": null,
       "flex": null,
       "flex_flow": null,
       "grid_area": null,
       "grid_auto_columns": null,
       "grid_auto_flow": null,
       "grid_auto_rows": null,
       "grid_column": null,
       "grid_gap": null,
       "grid_row": null,
       "grid_template_areas": null,
       "grid_template_columns": null,
       "grid_template_rows": null,
       "height": null,
       "justify_content": null,
       "justify_items": null,
       "left": null,
       "margin": null,
       "max_height": null,
       "max_width": null,
       "min_height": null,
       "min_width": null,
       "object_fit": null,
       "object_position": null,
       "order": null,
       "overflow": null,
       "overflow_x": null,
       "overflow_y": null,
       "padding": null,
       "right": null,
       "top": null,
       "visibility": null,
       "width": null
      }
     },
     "6db3273180f04c9b8419f1eecf470128": {
      "model_module": "@jupyter-widgets/base",
      "model_module_version": "1.2.0",
      "model_name": "LayoutModel",
      "state": {
       "_model_module": "@jupyter-widgets/base",
       "_model_module_version": "1.2.0",
       "_model_name": "LayoutModel",
       "_view_count": null,
       "_view_module": "@jupyter-widgets/base",
       "_view_module_version": "1.2.0",
       "_view_name": "LayoutView",
       "align_content": null,
       "align_items": null,
       "align_self": null,
       "border": null,
       "bottom": null,
       "display": null,
       "flex": null,
       "flex_flow": null,
       "grid_area": null,
       "grid_auto_columns": null,
       "grid_auto_flow": null,
       "grid_auto_rows": null,
       "grid_column": null,
       "grid_gap": null,
       "grid_row": null,
       "grid_template_areas": null,
       "grid_template_columns": null,
       "grid_template_rows": null,
       "height": null,
       "justify_content": null,
       "justify_items": null,
       "left": null,
       "margin": null,
       "max_height": null,
       "max_width": null,
       "min_height": null,
       "min_width": null,
       "object_fit": null,
       "object_position": null,
       "order": null,
       "overflow": null,
       "overflow_x": null,
       "overflow_y": null,
       "padding": null,
       "right": null,
       "top": null,
       "visibility": null,
       "width": null
      }
     },
     "70964da11f0c445686063b9976e3caa5": {
      "model_module": "@jupyter-widgets/controls",
      "model_module_version": "1.5.0",
      "model_name": "DescriptionStyleModel",
      "state": {
       "_model_module": "@jupyter-widgets/controls",
       "_model_module_version": "1.5.0",
       "_model_name": "DescriptionStyleModel",
       "_view_count": null,
       "_view_module": "@jupyter-widgets/base",
       "_view_module_version": "1.2.0",
       "_view_name": "StyleView",
       "description_width": ""
      }
     },
     "ce06f8a5cac043bd97ba7f18c5759e78": {
      "model_module": "@jupyter-widgets/controls",
      "model_module_version": "1.5.0",
      "model_name": "DescriptionStyleModel",
      "state": {
       "_model_module": "@jupyter-widgets/controls",
       "_model_module_version": "1.5.0",
       "_model_name": "DescriptionStyleModel",
       "_view_count": null,
       "_view_module": "@jupyter-widgets/base",
       "_view_module_version": "1.2.0",
       "_view_name": "StyleView",
       "description_width": ""
      }
     },
     "da831c4921684efa88eff8f30cf092e2": {
      "model_module": "@jupyter-widgets/controls",
      "model_module_version": "1.5.0",
      "model_name": "ProgressStyleModel",
      "state": {
       "_model_module": "@jupyter-widgets/controls",
       "_model_module_version": "1.5.0",
       "_model_name": "ProgressStyleModel",
       "_view_count": null,
       "_view_module": "@jupyter-widgets/base",
       "_view_module_version": "1.2.0",
       "_view_name": "StyleView",
       "bar_color": null,
       "description_width": ""
      }
     },
     "e94350db34d54b85b88234e3910497d0": {
      "model_module": "@jupyter-widgets/controls",
      "model_module_version": "1.5.0",
      "model_name": "HTMLModel",
      "state": {
       "_dom_classes": [],
       "_model_module": "@jupyter-widgets/controls",
       "_model_module_version": "1.5.0",
       "_model_name": "HTMLModel",
       "_view_count": null,
       "_view_module": "@jupyter-widgets/controls",
       "_view_module_version": "1.5.0",
       "_view_name": "HTMLView",
       "description": "",
       "description_tooltip": null,
       "layout": "IPY_MODEL_03310b2469c749f28d28c2073c531437",
       "placeholder": "​",
       "style": "IPY_MODEL_70964da11f0c445686063b9976e3caa5",
       "value": "100%"
      }
     }
    },
    "version_major": 2,
    "version_minor": 0
   }
  }
 },
 "nbformat": 4,
 "nbformat_minor": 5
}

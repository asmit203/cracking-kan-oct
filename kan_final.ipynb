{
 "cells": [
  {
   "cell_type": "markdown",
   "metadata": {},
   "source": [
    "## TODO\n",
    "### Need to run for longer epochs and see the results."
   ]
  },
  {
   "cell_type": "code",
   "execution_count": 1,
   "metadata": {},
   "outputs": [],
   "source": [
    "DO_train = False"
   ]
  },
  {
   "cell_type": "code",
   "execution_count": 2,
   "metadata": {},
   "outputs": [],
   "source": [
    "import torch\n",
    "import torchvision"
   ]
  },
  {
   "cell_type": "code",
   "execution_count": 3,
   "metadata": {},
   "outputs": [
    {
     "name": "stdout",
     "output_type": "stream",
     "text": [
      "torch.Size([3, 224, 224])\n",
      "torch.Size([3, 224, 224])\n"
     ]
    }
   ],
   "source": [
    "import pandas as pd\n",
    "import os\n",
    "from PIL import Image\n",
    "from torchvision import transforms\n",
    "from torch.utils.data import Dataset, DataLoader\n",
    "\n",
    "import numpy as np\n",
    "from sklearn.preprocessing import OneHotEncoder\n",
    "from sklearn.preprocessing import LabelEncoder\n",
    "\n",
    "# Custom dataset class\n",
    "class CustomImageDataset(Dataset):\n",
    "    def __init__(self, csv_file, transform=None):\n",
    "        self.data_frame = pd.read_csv(csv_file)\n",
    "        self.transform = transform\n",
    "        \n",
    "        classes = list(pd.read_csv(\"/Users/asmitganguly/Developer/internships/UWaterloo-24/code/data/train_data.csv\")[\"class\"].unique())\n",
    "\n",
    "        # Initialize the label encoder\n",
    "        label_encoder = LabelEncoder()\n",
    "        integer_encoded = label_encoder.fit_transform(classes)\n",
    "\n",
    "        # Initialize the one hot encoder\n",
    "        onehot_encoder = OneHotEncoder(sparse_output=False)\n",
    "        integer_encoded = integer_encoded.reshape(len(integer_encoded), 1)\n",
    "        onehot_encoded = onehot_encoder.fit_transform(integer_encoded)\n",
    "\n",
    "        # Create a dictionary to map the classes to the one hot encoding\n",
    "        class_dict = {}\n",
    "        for i in range(len(classes)):\n",
    "            class_dict[classes[i]] = onehot_encoded[i]\n",
    "            \n",
    "        self.class_dict = class_dict\n",
    "\n",
    "    def __len__(self):\n",
    "        return len(self.data_frame)\n",
    "\n",
    "    def __getitem__(self, idx):\n",
    "        img_name = os.path.join(self.data_frame.iloc[idx]['path'])\n",
    "        image = Image.open(img_name).convert('RGB')\n",
    "        label = self.data_frame.iloc[idx]['class']\n",
    "        \n",
    "        if self.transform:\n",
    "            image = self.transform(image)\n",
    "\n",
    "        return image, self.class_dict[label]\n",
    "\n",
    "# Define the transformations\n",
    "data_transforms = transforms.Compose([\n",
    "    transforms.Resize((224, 224)),  # Resize the image to 224x224\n",
    "    transforms.RandomHorizontalFlip(p=0.5),  # Randomly flip the image horizontally with a probability of 0.5\n",
    "    transforms.RandomRotation(15),  # Randomly rotate the image by up to 15 degrees\n",
    "    transforms.ToTensor(),  # Convert the image to a tensor\n",
    "    transforms.Normalize([0.5], [0.5]),  # Normalize the image (mean and std for grayscale)\n",
    "    transforms.Lambda(lambda x: x + 0.01 * torch.randn_like(x))  # Add small random noise to the image\n",
    "])\n",
    "\n",
    "# Initialize the dataset\n",
    "TrainDataset = CustomImageDataset(csv_file='/Users/asmitganguly/Developer/internships/UWaterloo-24/code/data/train_data.csv', transform=data_transforms)\n",
    "TestDataset = CustomImageDataset(csv_file='/Users/asmitganguly/Developer/internships/UWaterloo-24/code/data/test_data.csv', transform=data_transforms)\n",
    "\n",
    "print(TrainDataset.__getitem__(0)[0].shape)\n",
    "print(TestDataset.__getitem__(1)[0].shape)"
   ]
  },
  {
   "cell_type": "code",
   "execution_count": 4,
   "metadata": {},
   "outputs": [],
   "source": [
    "train_dataloader = DataLoader(TrainDataset, batch_size=4)\n",
    "valid_dataloader = DataLoader(TestDataset, batch_size=4)"
   ]
  },
  {
   "cell_type": "code",
   "execution_count": 5,
   "metadata": {},
   "outputs": [],
   "source": [
    "# #! create the one hot encoding for the classes from the train datalaoader\n",
    "# import numpy as np\n",
    "# from sklearn.preprocessing import OneHotEncoder\n",
    "# from sklearn.preprocessing import LabelEncoder\n",
    "\n",
    "# # Get the classes from the dataloader\n",
    "# classes = list(pd.read_csv(\"/Users/asmitganguly/Developer/internships/UWaterloo-24/code/data/train_data.csv\")[\"class\"].unique())\n",
    "\n",
    "# # Initialize the label encoder\n",
    "# label_encoder = LabelEncoder()\n",
    "# integer_encoded = label_encoder.fit_transform(classes)\n",
    "\n",
    "# # Initialize the one hot encoder\n",
    "# onehot_encoder = OneHotEncoder(sparse_output=False)\n",
    "# integer_encoded = integer_encoded.reshape(len(integer_encoded), 1)\n",
    "# onehot_encoded = onehot_encoder.fit_transform(integer_encoded)\n",
    "\n",
    "# # Create a dictionary to map the classes to the one hot encoding\n",
    "# class_dict = {}\n",
    "# for i in range(len(classes)):\n",
    "#     class_dict[classes[i]] = onehot_encoded[i]\n",
    "    \n",
    "# class_dict\n"
   ]
  },
  {
   "cell_type": "code",
   "execution_count": 6,
   "metadata": {},
   "outputs": [],
   "source": [
    "import time\n",
    "from tqdm import tqdm \n",
    "def train(net, train_dataloader, valid_dataloader, criterion, optimizer, scheduler=None, epochs=10, device='mps', checkpoint_epochs=10, chk_cont=None):\n",
    "    start = time.time()\n",
    "    if chk_cont is not None:\n",
    "        checkpoint = torch.load(chk_cont)\n",
    "        net.load_state_dict(checkpoint['state_dict'])\n",
    "        # optimizer.load_state_dict(checkpoint['optimizer'])\n",
    "        start = time.time()\n",
    "        print(f'Checkpoint loaded from epoch {checkpoint[\"epoch\"]}')\n",
    "        \n",
    "    print(f'Training for {epochs} epochs on {device}')\n",
    "    start_epoch = 1\n",
    "    if chk_cont is not None:\n",
    "        print(f'Continuing training from epoch {checkpoint[\"epoch\"]}')\n",
    "        start_epoch = checkpoint[\"epoch\"]\n",
    "\n",
    "    for epoch in range(start_epoch, epochs+1):\n",
    "        print(f\"Epoch {epoch}/{epochs}\")\n",
    "        \n",
    "        net.train()  # put network in train mode for Dropout and Batch Normalization\n",
    "        train_loss = torch.tensor(0., device=device)  # loss and accuracy tensors are on the GPU to avoid data transfers\n",
    "        train_accuracy = torch.tensor(0., device=device)\n",
    "        for X, y in tqdm(train_dataloader):\n",
    "            X = X.to(torch.float32).to(device).mean(dim=1, keepdim=True)\n",
    "            \n",
    "            y = y.to(torch.float32).to(device)\n",
    "            preds = net(X)\n",
    "            # print(preds.shape)\n",
    "            loss = criterion(preds, y)\n",
    "            \n",
    "            optimizer.zero_grad()\n",
    "            loss.backward()\n",
    "            optimizer.step()\n",
    "            \n",
    "            with torch.no_grad():\n",
    "                train_loss += loss * train_dataloader.batch_size\n",
    "                train_accuracy += (torch.argmax(preds, dim=1) == torch.argmax(y, dim=1)).sum()\n",
    "        \n",
    "        if valid_dataloader is not None:\n",
    "            net.eval()  # put network in train mode for Dropout and Batch Normalization\n",
    "            valid_loss = torch.tensor(0., device=device)\n",
    "            valid_accuracy = torch.tensor(0., device=device)\n",
    "            with torch.no_grad():\n",
    "                for X, y in valid_dataloader:\n",
    "                    X = X.to(torch.float32).mean(dim=1, keepdim=True).to(device)\n",
    "                    y = y.to(torch.float32).to(device)\n",
    "                    preds = net(X)\n",
    "                    loss = criterion(preds, y)\n",
    "\n",
    "                    valid_loss += loss * valid_dataloader.batch_size\n",
    "                    valid_accuracy += (torch.argmax(preds, dim=1) == torch.argmax(y, dim=1)).sum()\n",
    "        \n",
    "        if scheduler is not None: \n",
    "            scheduler.step()\n",
    "            \n",
    "        print(f'Training loss: {train_loss/len(train_dataloader.dataset):.2f}')\n",
    "        print(f'Training accuracy: {100*train_accuracy/len(train_dataloader.dataset):.2f}')\n",
    "        \n",
    "        if valid_dataloader is not None:\n",
    "            print(f'Valid loss: {valid_loss/len(valid_dataloader.dataset):.2f}')\n",
    "            print(f'Valid accuracy: {100*valid_accuracy/len(valid_dataloader.dataset):.2f}')\n",
    "        \n",
    "        if epoch%checkpoint_epochs==0:\n",
    "            torch.save({\n",
    "                'epoch': epoch,\n",
    "                'state_dict': net.state_dict(),\n",
    "                'optimizer': optimizer.state_dict(),\n",
    "            }, './weights/oct/checkpoint.pth.tar')\n",
    "        \n",
    "        print()\n",
    "    \n",
    "    end = time.time()\n",
    "    print(f'Total training time: {end-start:.1f} seconds')\n",
    "    return net"
   ]
  },
  {
   "cell_type": "code",
   "execution_count": 7,
   "metadata": {},
   "outputs": [
    {
     "name": "stdout",
     "output_type": "stream",
     "text": [
      "checkpoint directory created: ./model\n",
      "saving model version 0.0\n",
      "checkpoint directory created: ./model\n",
      "saving model version 0.0\n"
     ]
    },
    {
     "name": "stderr",
     "output_type": "stream",
     "text": [
      "/var/folders/1x/ys4528cx32123ww1dck2swg40000gn/T/ipykernel_6306/1635648280.py:99: FutureWarning: You are using `torch.load` with `weights_only=False` (the current default value), which uses the default pickle module implicitly. It is possible to construct malicious pickle data which will execute arbitrary code during unpickling (See https://github.com/pytorch/pytorch/blob/main/SECURITY.md#untrusted-models for more details). In a future release, the default value for `weights_only` will be flipped to `True`. This limits the functions that could be executed during unpickling. Arbitrary objects will no longer be allowed to be loaded via this mode unless they are explicitly allowlisted by the user via `torch.serialization.add_safe_globals`. We recommend you start setting `weights_only=True` for any use case where you don't have full control of the loaded file. Please open an issue on GitHub for any issues related to this experimental feature.\n",
      "  model_feature.load_state_dict(torch.load(\"./weights/Convs_and_KAN_pykan.pth\"))\n"
     ]
    }
   ],
   "source": [
    "import torch\n",
    "import torch.nn as nn\n",
    "import torch.nn.functional as F\n",
    "from kan import KAN\n",
    "\n",
    "device='mps'\n",
    "class NormalConvsKAN(nn.Module):\n",
    "    def __init__(self):\n",
    "        super(NormalConvsKAN, self).__init__()\n",
    "        # Convolutional layer, assuming an input with 1 channel (grayscale image)\n",
    "        # and producing 16 output channels, with a kernel size of 3x3\n",
    "        self.conv1 = nn.Conv2d(1, 5, kernel_size=3, padding=1)\n",
    "        self.conv2 = nn.Conv2d(5, 10, kernel_size=5, padding=1)\n",
    "        self.conv3 = nn.Conv2d(10, 20, kernel_size=7, padding=1)\n",
    "\n",
    "        # Max pooling layer\n",
    "        self.maxpool = nn.MaxPool2d(kernel_size=2)\n",
    "        \n",
    "        # Flatten layer\n",
    "        self.flatten = nn.Flatten()\n",
    "\n",
    "        self.kan1 = KAN(\n",
    "            width=[20,10],\n",
    "            grid=10,\n",
    "            k=3,\n",
    "            noise_scale=0.01,\n",
    "            scale_base_mu=1,\n",
    "            scale_base_sigma=1,\n",
    "            grid_eps=0.02,\n",
    "            grid_range=[0,1])\n",
    "\n",
    "    def forward(self, x):\n",
    "        x = F.relu(self.conv1(x))\n",
    "        x = self.maxpool(x)\n",
    "        x = F.relu(self.conv2(x))\n",
    "        x = self.maxpool(x)\n",
    "        x = F.relu(self.conv3(x))\n",
    "        x = self.maxpool(x)\n",
    "        \n",
    "        x = self.flatten(x)\n",
    "        x = self.kan1(x)\n",
    "\n",
    "        x = F.log_softmax(x, dim=1)\n",
    "        return x\n",
    "    \n",
    "    def feature(self, x):\n",
    "        x = F.relu(self.conv1(x))\n",
    "        x = self.maxpool(x)\n",
    "        x = F.relu(self.conv2(x))\n",
    "        x = self.maxpool(x)\n",
    "        x = F.relu(self.conv3(x))\n",
    "        x = self.maxpool(x)\n",
    "        return x\n",
    "    def get_act(self, x):\n",
    "        x = F.relu(self.conv1(x))\n",
    "        return x\n",
    "    \n",
    "    \n",
    "class KAN_class(nn.Module):\n",
    "    def __init__(self):\n",
    "        super(KAN_class, self).__init__()\n",
    "        self.conv4 = nn.Conv2d(20, 40, kernel_size=9, padding=1)\n",
    "        self.conv5 = nn.Conv2d(40, 50, kernel_size=11, padding=1)\n",
    "\n",
    "        # Max pooling layer\n",
    "        self.maxpool = nn.MaxPool2d(kernel_size=2)\n",
    "        \n",
    "        # Flatten layer\n",
    "        self.flatten = nn.Flatten()\n",
    "        \n",
    "        \"\"\"self, width=None, grid=3, k=3, noise_scale=0.1, scale_base_mu=0.0, scale_base_sigma=1.0, base_fun=torch.nn.SiLU(), symbolic_enabled=True, bias_trainable=False, grid_eps=1.0, grid_range=[-1, 1], sp_trainable=True, sb_trainable=True, device='cpu', seed=0\"\"\"\n",
    "\n",
    "        self.kan1 = KAN(\n",
    "            width=[50,5],\n",
    "            grid=10,\n",
    "            k=3,\n",
    "            noise_scale=0.01,\n",
    "            scale_base_mu=1,\n",
    "            scale_base_sigma=1,\n",
    "            grid_eps=0.02,\n",
    "            grid_range=[0,1])\n",
    "        \n",
    "\n",
    "    def forward(self, x):\n",
    "        x = F.relu(self.conv4(x))\n",
    "        x = self.maxpool(x)\n",
    "        x = F.relu(self.conv5(x))\n",
    "        \n",
    "        x = self.flatten(x)\n",
    "        x = self.kan1(x)\n",
    "\n",
    "        x = F.log_softmax(x, dim=1)\n",
    "        return x\n",
    "\n",
    "\n",
    "\n",
    "\n",
    "model_feature = NormalConvsKAN()\n",
    "model_feature.load_state_dict(torch.load(\"./weights/Convs_and_KAN_pykan.pth\"))\n",
    "model_feature.to(device)\n",
    "model_class = KAN_class().to(device)\n",
    "\n",
    "# out = model_class(model_feature.feature(tt.to(device)))\n",
    "# print(\"out: \", out.shape)\n",
    "\n",
    "#new model as the mix of both the models\n",
    "class MixModel(nn.Module):\n",
    "    def __init__(self, model_feature, model_class):\n",
    "        super(MixModel, self).__init__()\n",
    "        self.model_feature = model_feature\n",
    "        self.model_class = model_class\n",
    "        \n",
    "    def forward(self, x):\n",
    "        x = self.model_feature.feature(x)\n",
    "        x = self.model_class(x)\n",
    "        return x\n",
    "    \n",
    "model = MixModel(model_feature, model_class).to(device)\n",
    "\n",
    "# Define the loss function and optimizer\n",
    "criterion = nn.CrossEntropyLoss()\n",
    "optimizer = torch.optim.Adam(model.parameters(), lr=0.001)\n"
   ]
  },
  {
   "cell_type": "code",
   "execution_count": 8,
   "metadata": {},
   "outputs": [],
   "source": [
    "# DO_train = False"
   ]
  },
  {
   "cell_type": "code",
   "execution_count": 9,
   "metadata": {},
   "outputs": [
    {
     "name": "stderr",
     "output_type": "stream",
     "text": [
      "/var/folders/1x/ys4528cx32123ww1dck2swg40000gn/T/ipykernel_6306/99938414.py:6: FutureWarning: You are using `torch.load` with `weights_only=False` (the current default value), which uses the default pickle module implicitly. It is possible to construct malicious pickle data which will execute arbitrary code during unpickling (See https://github.com/pytorch/pytorch/blob/main/SECURITY.md#untrusted-models for more details). In a future release, the default value for `weights_only` will be flipped to `True`. This limits the functions that could be executed during unpickling. Arbitrary objects will no longer be allowed to be loaded via this mode unless they are explicitly allowlisted by the user via `torch.serialization.add_safe_globals`. We recommend you start setting `weights_only=True` for any use case where you don't have full control of the loaded file. Please open an issue on GitHub for any issues related to this experimental feature.\n",
      "  checkpoint = torch.load(chk_cont)\n"
     ]
    },
    {
     "name": "stdout",
     "output_type": "stream",
     "text": [
      "Checkpoint loaded from epoch 100\n",
      "Training for 100 epochs on mps\n",
      "Continuing training from epoch 100\n",
      "Epoch 100/100\n"
     ]
    },
    {
     "name": "stderr",
     "output_type": "stream",
     "text": [
      " 10%|▉         | 11/115 [00:04<00:43,  2.38it/s]\n"
     ]
    },
    {
     "ename": "KeyboardInterrupt",
     "evalue": "",
     "output_type": "error",
     "traceback": [
      "\u001b[0;31m---------------------------------------------------------------------------\u001b[0m",
      "\u001b[0;31mKeyboardInterrupt\u001b[0m                         Traceback (most recent call last)",
      "Cell \u001b[0;32mIn[9], line 5\u001b[0m\n\u001b[1;32m      2\u001b[0m lr, weight_decay, epochs \u001b[38;5;241m=\u001b[39m \u001b[38;5;241m1e-5\u001b[39m, \u001b[38;5;241m5e-4\u001b[39m, \u001b[38;5;241m100\u001b[39m\n\u001b[1;32m      4\u001b[0m \u001b[38;5;28;01mif\u001b[39;00m DO_train:\n\u001b[0;32m----> 5\u001b[0m     net \u001b[38;5;241m=\u001b[39m \u001b[43mtrain\u001b[49m\u001b[43m(\u001b[49m\u001b[43mmodel\u001b[49m\u001b[43m,\u001b[49m\u001b[43m \u001b[49m\u001b[43mtrain_dataloader\u001b[49m\u001b[43m,\u001b[49m\u001b[43m \u001b[49m\u001b[43mvalid_dataloader\u001b[49m\u001b[43m,\u001b[49m\u001b[43m \u001b[49m\u001b[43mcriterion\u001b[49m\u001b[43m,\u001b[49m\u001b[43m \u001b[49m\u001b[43moptimizer\u001b[49m\u001b[43m,\u001b[49m\u001b[43m \u001b[49m\u001b[38;5;28;43;01mNone\u001b[39;49;00m\u001b[43m,\u001b[49m\u001b[43m \u001b[49m\u001b[43mepochs\u001b[49m\u001b[43m,\u001b[49m\u001b[43m \u001b[49m\u001b[43mdevice\u001b[49m\u001b[43m,\u001b[49m\u001b[43m \u001b[49m\u001b[43mchk_cont\u001b[49m\u001b[38;5;241;43m=\u001b[39;49m\u001b[38;5;124;43m\"\u001b[39;49m\u001b[38;5;124;43m/Users/asmitganguly/Developer/internships/UWaterloo-24/code/model/kan/weights/oct/checkpoint.pth.tar\u001b[39;49m\u001b[38;5;124;43m\"\u001b[39;49m\u001b[43m)\u001b[49m\n\u001b[1;32m      6\u001b[0m \u001b[38;5;28;01melse\u001b[39;00m:\n\u001b[1;32m      7\u001b[0m     checkpoint \u001b[38;5;241m=\u001b[39m torch\u001b[38;5;241m.\u001b[39mload(\u001b[38;5;124m\"\u001b[39m\u001b[38;5;124m/Users/asmitganguly/Developer/internships/UWaterloo-24/code/model/kan/weights/oct/checkpoint.pth.tar\u001b[39m\u001b[38;5;124m\"\u001b[39m)\n",
      "Cell \u001b[0;32mIn[6], line 33\u001b[0m, in \u001b[0;36mtrain\u001b[0;34m(net, train_dataloader, valid_dataloader, criterion, optimizer, scheduler, epochs, device, checkpoint_epochs, chk_cont)\u001b[0m\n\u001b[1;32m     30\u001b[0m loss \u001b[38;5;241m=\u001b[39m criterion(preds, y)\n\u001b[1;32m     32\u001b[0m optimizer\u001b[38;5;241m.\u001b[39mzero_grad()\n\u001b[0;32m---> 33\u001b[0m \u001b[43mloss\u001b[49m\u001b[38;5;241;43m.\u001b[39;49m\u001b[43mbackward\u001b[49m\u001b[43m(\u001b[49m\u001b[43m)\u001b[49m\n\u001b[1;32m     34\u001b[0m optimizer\u001b[38;5;241m.\u001b[39mstep()\n\u001b[1;32m     36\u001b[0m \u001b[38;5;28;01mwith\u001b[39;00m torch\u001b[38;5;241m.\u001b[39mno_grad():\n",
      "File \u001b[0;32m~/miniconda3/envs/mlx/lib/python3.12/site-packages/torch/_tensor.py:522\u001b[0m, in \u001b[0;36mTensor.backward\u001b[0;34m(self, gradient, retain_graph, create_graph, inputs)\u001b[0m\n\u001b[1;32m    512\u001b[0m \u001b[38;5;28;01mif\u001b[39;00m has_torch_function_unary(\u001b[38;5;28mself\u001b[39m):\n\u001b[1;32m    513\u001b[0m     \u001b[38;5;28;01mreturn\u001b[39;00m handle_torch_function(\n\u001b[1;32m    514\u001b[0m         Tensor\u001b[38;5;241m.\u001b[39mbackward,\n\u001b[1;32m    515\u001b[0m         (\u001b[38;5;28mself\u001b[39m,),\n\u001b[0;32m   (...)\u001b[0m\n\u001b[1;32m    520\u001b[0m         inputs\u001b[38;5;241m=\u001b[39minputs,\n\u001b[1;32m    521\u001b[0m     )\n\u001b[0;32m--> 522\u001b[0m \u001b[43mtorch\u001b[49m\u001b[38;5;241;43m.\u001b[39;49m\u001b[43mautograd\u001b[49m\u001b[38;5;241;43m.\u001b[39;49m\u001b[43mbackward\u001b[49m\u001b[43m(\u001b[49m\n\u001b[1;32m    523\u001b[0m \u001b[43m    \u001b[49m\u001b[38;5;28;43mself\u001b[39;49m\u001b[43m,\u001b[49m\u001b[43m \u001b[49m\u001b[43mgradient\u001b[49m\u001b[43m,\u001b[49m\u001b[43m \u001b[49m\u001b[43mretain_graph\u001b[49m\u001b[43m,\u001b[49m\u001b[43m \u001b[49m\u001b[43mcreate_graph\u001b[49m\u001b[43m,\u001b[49m\u001b[43m \u001b[49m\u001b[43minputs\u001b[49m\u001b[38;5;241;43m=\u001b[39;49m\u001b[43minputs\u001b[49m\n\u001b[1;32m    524\u001b[0m \u001b[43m\u001b[49m\u001b[43m)\u001b[49m\n",
      "File \u001b[0;32m~/miniconda3/envs/mlx/lib/python3.12/site-packages/torch/autograd/__init__.py:346\u001b[0m, in \u001b[0;36mbackward\u001b[0;34m(tensors, grad_tensors, retain_graph, create_graph, grad_variables, inputs)\u001b[0m\n\u001b[1;32m    341\u001b[0m     retain_graph \u001b[38;5;241m=\u001b[39m create_graph\n\u001b[1;32m    343\u001b[0m \u001b[38;5;66;03m# The reason we repeat the same comment below is that\u001b[39;00m\n\u001b[1;32m    344\u001b[0m \u001b[38;5;66;03m# some Python versions print out the first line of a multi-line function\u001b[39;00m\n\u001b[1;32m    345\u001b[0m \u001b[38;5;66;03m# calls in the traceback and some print out the last line\u001b[39;00m\n\u001b[0;32m--> 346\u001b[0m \u001b[43m_engine_run_backward\u001b[49m\u001b[43m(\u001b[49m\n\u001b[1;32m    347\u001b[0m \u001b[43m    \u001b[49m\u001b[43mtensors\u001b[49m\u001b[43m,\u001b[49m\n\u001b[1;32m    348\u001b[0m \u001b[43m    \u001b[49m\u001b[43mgrad_tensors_\u001b[49m\u001b[43m,\u001b[49m\n\u001b[1;32m    349\u001b[0m \u001b[43m    \u001b[49m\u001b[43mretain_graph\u001b[49m\u001b[43m,\u001b[49m\n\u001b[1;32m    350\u001b[0m \u001b[43m    \u001b[49m\u001b[43mcreate_graph\u001b[49m\u001b[43m,\u001b[49m\n\u001b[1;32m    351\u001b[0m \u001b[43m    \u001b[49m\u001b[43minputs\u001b[49m\u001b[43m,\u001b[49m\n\u001b[1;32m    352\u001b[0m \u001b[43m    \u001b[49m\u001b[43mallow_unreachable\u001b[49m\u001b[38;5;241;43m=\u001b[39;49m\u001b[38;5;28;43;01mTrue\u001b[39;49;00m\u001b[43m,\u001b[49m\n\u001b[1;32m    353\u001b[0m \u001b[43m    \u001b[49m\u001b[43maccumulate_grad\u001b[49m\u001b[38;5;241;43m=\u001b[39;49m\u001b[38;5;28;43;01mTrue\u001b[39;49;00m\u001b[43m,\u001b[49m\n\u001b[1;32m    354\u001b[0m \u001b[43m\u001b[49m\u001b[43m)\u001b[49m\n",
      "File \u001b[0;32m~/miniconda3/envs/mlx/lib/python3.12/site-packages/torch/autograd/graph.py:812\u001b[0m, in \u001b[0;36m_engine_run_backward\u001b[0;34m(t_outputs, *args, **kwargs)\u001b[0m\n\u001b[1;32m    810\u001b[0m     unregister_hooks \u001b[38;5;241m=\u001b[39m _register_logging_hooks_on_whole_graph(t_outputs)\n\u001b[1;32m    811\u001b[0m \u001b[38;5;28;01mtry\u001b[39;00m:\n\u001b[0;32m--> 812\u001b[0m     \u001b[38;5;28;01mreturn\u001b[39;00m \u001b[43mVariable\u001b[49m\u001b[38;5;241;43m.\u001b[39;49m\u001b[43m_execution_engine\u001b[49m\u001b[38;5;241;43m.\u001b[39;49m\u001b[43mrun_backward\u001b[49m\u001b[43m(\u001b[49m\u001b[43m  \u001b[49m\u001b[38;5;66;43;03m# Calls into the C++ engine to run the backward pass\u001b[39;49;00m\n\u001b[1;32m    813\u001b[0m \u001b[43m        \u001b[49m\u001b[43mt_outputs\u001b[49m\u001b[43m,\u001b[49m\u001b[43m \u001b[49m\u001b[38;5;241;43m*\u001b[39;49m\u001b[43margs\u001b[49m\u001b[43m,\u001b[49m\u001b[43m \u001b[49m\u001b[38;5;241;43m*\u001b[39;49m\u001b[38;5;241;43m*\u001b[39;49m\u001b[43mkwargs\u001b[49m\n\u001b[1;32m    814\u001b[0m \u001b[43m    \u001b[49m\u001b[43m)\u001b[49m  \u001b[38;5;66;03m# Calls into the C++ engine to run the backward pass\u001b[39;00m\n\u001b[1;32m    815\u001b[0m \u001b[38;5;28;01mfinally\u001b[39;00m:\n\u001b[1;32m    816\u001b[0m     \u001b[38;5;28;01mif\u001b[39;00m attach_logging_hooks:\n",
      "\u001b[0;31mKeyboardInterrupt\u001b[0m: "
     ]
    }
   ],
   "source": [
    "device = 'mps' if torch.backends.mps.is_available() else 'cpu'\n",
    "lr, weight_decay, epochs = 1e-5, 5e-4, 100\n",
    "\n",
    "if DO_train:\n",
    "    net = train(model, train_dataloader, valid_dataloader, criterion, optimizer, None, epochs, device, chk_cont=\"/Users/asmitganguly/Developer/internships/UWaterloo-24/code/model/kan/weights/oct/checkpoint.pth.tar\")\n",
    "else:\n",
    "    checkpoint = torch.load(\"/Users/asmitganguly/Developer/internships/UWaterloo-24/code/model/kan/weights/oct/checkpoint.pth.tar\")\n",
    "    model.load_state_dict(checkpoint['state_dict'])\n",
    "    print(f'Checkpoint loaded from epoch {checkpoint[\"epoch\"]}')"
   ]
  },
  {
   "cell_type": "markdown",
   "metadata": {},
   "source": [
    "## TEST"
   ]
  },
  {
   "cell_type": "code",
   "execution_count": 10,
   "metadata": {},
   "outputs": [
    {
     "name": "stderr",
     "output_type": "stream",
     "text": [
      "/var/folders/1x/ys4528cx32123ww1dck2swg40000gn/T/ipykernel_11263/2987727986.py:1: FutureWarning: You are using `torch.load` with `weights_only=False` (the current default value), which uses the default pickle module implicitly. It is possible to construct malicious pickle data which will execute arbitrary code during unpickling (See https://github.com/pytorch/pytorch/blob/main/SECURITY.md#untrusted-models for more details). In a future release, the default value for `weights_only` will be flipped to `True`. This limits the functions that could be executed during unpickling. Arbitrary objects will no longer be allowed to be loaded via this mode unless they are explicitly allowlisted by the user via `torch.serialization.add_safe_globals`. We recommend you start setting `weights_only=True` for any use case where you don't have full control of the loaded file. Please open an issue on GitHub for any issues related to this experimental feature.\n",
      "  model.load_state_dict(torch.load(\"/Users/asmitganguly/Developer/internships/UWaterloo-24/code/model/kan/weights/oct/checkpoint.pth.tar\")['state_dict'])\n"
     ]
    },
    {
     "data": {
      "text/plain": [
       "<All keys matched successfully>"
      ]
     },
     "execution_count": 10,
     "metadata": {},
     "output_type": "execute_result"
    }
   ],
   "source": [
    "model.load_state_dict(torch.load(\"/Users/asmitganguly/Developer/internships/UWaterloo-24/code/model/kan/weights/oct/checkpoint.pth.tar\")['state_dict'])"
   ]
  },
  {
   "cell_type": "code",
   "execution_count": 11,
   "metadata": {},
   "outputs": [],
   "source": [
    "import time\n",
    "from sklearn.metrics import precision_score, recall_score, f1_score\n",
    "\n",
    "\n",
    "def test(net, train_dataloader, valid_dataloader, criterion, optimizer, scheduler=None, epochs=10, device='mps', checkpoint_epochs=10, chk=None):\n",
    "    start = time.time()\n",
    "    print(f'Training for {epochs} epochs on {device}')\n",
    "    if chk is not None:\n",
    "        checkpoint = torch.load(chk)\n",
    "        net.load_state_dict(checkpoint['state_dict'])\n",
    "        optimizer.load_state_dict(checkpoint['optimizer'])\n",
    "        net.eval()\n",
    "        net.to(device)\n",
    "    results = {\n",
    "        'precision': [],\n",
    "        'recall': [],\n",
    "        'f1': [],\n",
    "        'predictions': [],\n",
    "        'targets': []\n",
    "    }\n",
    "    if valid_dataloader is not None:\n",
    "        net.eval()  # put network in train mode for Dropout and Batch Normalization\n",
    "        valid_loss = torch.tensor(0., device=device)\n",
    "        valid_accuracy = torch.tensor(0., device=device)\n",
    "        with torch.no_grad():\n",
    "            for X, y in valid_dataloader:\n",
    "                X = X.to(torch.float32).mean(dim=1, keepdim=True).to(device)\n",
    "                y = y.to(torch.float32).to(device)\n",
    "                preds = net(X)\n",
    "                loss = criterion(preds, y)\n",
    "\n",
    "                \n",
    "                \n",
    "                valid_loss += loss * valid_dataloader.batch_size\n",
    "                valid_accuracy += (torch.argmax(preds, dim=1) == torch.argmax(y, dim=1)).sum()\n",
    "                \n",
    "                all_predictions = torch.argmax(preds, dim=1).cpu().numpy()\n",
    "                all_targets = torch.argmax(y, dim=1).cpu().numpy()\n",
    "                precision = precision_score(all_targets, all_predictions, average=None)\n",
    "                recall = recall_score(all_targets, all_predictions, average=None)\n",
    "                f1 = f1_score(all_targets, all_predictions, average=None)\n",
    "                \n",
    "                results['precision'].append(precision)\n",
    "                results['recall'].append(recall)\n",
    "                results['f1'].append(f1)\n",
    "                results['predictions'].append(all_predictions)\n",
    "                results['targets'].append(all_targets)\n",
    "    \n",
    "    if scheduler is not None: \n",
    "        scheduler.step()\n",
    "        \n",
    "    # print(f'Training loss: {train_loss/len(train_dataloader.dataset):.2f}')\n",
    "    # print(f'Training accuracy: {100*train_accuracy/len(train_dataloader.dataset):.2f}')\n",
    "    \n",
    "    if valid_dataloader is not None:\n",
    "        print(f'Valid loss: {valid_loss/len(valid_dataloader.dataset):.2f}')\n",
    "        print(f'Valid accuracy: {100*valid_accuracy/len(valid_dataloader.dataset):.2f}')\n",
    "    \n",
    "    # if epoch%checkpoint_epochs==0:\n",
    "    #     torch.save({\n",
    "    #         'epoch': epoch,\n",
    "    #         'state_dict': net.state_dict(),\n",
    "    #         'optimizer': optimizer.state_dict(),\n",
    "    #     }, './weights/checkpoint.pth.tar')\n",
    "    \n",
    "    # print()\n",
    "    \n",
    "    end = time.time()\n",
    "    print(f'Total training time: {end-start:.1f} seconds')\n",
    "    return net, results"
   ]
  },
  {
   "cell_type": "code",
   "execution_count": 12,
   "metadata": {},
   "outputs": [
    {
     "data": {
      "text/plain": [
       "29"
      ]
     },
     "execution_count": 12,
     "metadata": {},
     "output_type": "execute_result"
    }
   ],
   "source": [
    "len(valid_dataloader)"
   ]
  },
  {
   "cell_type": "code",
   "execution_count": 13,
   "metadata": {},
   "outputs": [],
   "source": [
    "net=model"
   ]
  },
  {
   "cell_type": "code",
   "execution_count": 14,
   "metadata": {},
   "outputs": [
    {
     "name": "stdout",
     "output_type": "stream",
     "text": [
      "Training for 1 epochs on mps\n"
     ]
    },
    {
     "name": "stderr",
     "output_type": "stream",
     "text": [
      "/var/folders/1x/ys4528cx32123ww1dck2swg40000gn/T/ipykernel_11263/2623279554.py:9: FutureWarning: You are using `torch.load` with `weights_only=False` (the current default value), which uses the default pickle module implicitly. It is possible to construct malicious pickle data which will execute arbitrary code during unpickling (See https://github.com/pytorch/pytorch/blob/main/SECURITY.md#untrusted-models for more details). In a future release, the default value for `weights_only` will be flipped to `True`. This limits the functions that could be executed during unpickling. Arbitrary objects will no longer be allowed to be loaded via this mode unless they are explicitly allowlisted by the user via `torch.serialization.add_safe_globals`. We recommend you start setting `weights_only=True` for any use case where you don't have full control of the loaded file. Please open an issue on GitHub for any issues related to this experimental feature.\n",
      "  checkpoint = torch.load(chk)\n",
      "/Users/asmitganguly/miniconda3/envs/mlx/lib/python3.12/site-packages/sklearn/metrics/_classification.py:1509: UndefinedMetricWarning: Precision is ill-defined and being set to 0.0 in labels with no predicted samples. Use `zero_division` parameter to control this behavior.\n",
      "  _warn_prf(average, modifier, f\"{metric.capitalize()} is\", len(result))\n",
      "/Users/asmitganguly/miniconda3/envs/mlx/lib/python3.12/site-packages/sklearn/metrics/_classification.py:1509: UndefinedMetricWarning: Recall is ill-defined and being set to 0.0 in labels with no true samples. Use `zero_division` parameter to control this behavior.\n",
      "  _warn_prf(average, modifier, f\"{metric.capitalize()} is\", len(result))\n",
      "/Users/asmitganguly/miniconda3/envs/mlx/lib/python3.12/site-packages/sklearn/metrics/_classification.py:1509: UndefinedMetricWarning: Recall is ill-defined and being set to 0.0 in labels with no true samples. Use `zero_division` parameter to control this behavior.\n",
      "  _warn_prf(average, modifier, f\"{metric.capitalize()} is\", len(result))\n",
      "/Users/asmitganguly/miniconda3/envs/mlx/lib/python3.12/site-packages/sklearn/metrics/_classification.py:1509: UndefinedMetricWarning: Precision is ill-defined and being set to 0.0 in labels with no predicted samples. Use `zero_division` parameter to control this behavior.\n",
      "  _warn_prf(average, modifier, f\"{metric.capitalize()} is\", len(result))\n",
      "/Users/asmitganguly/miniconda3/envs/mlx/lib/python3.12/site-packages/sklearn/metrics/_classification.py:1509: UndefinedMetricWarning: Recall is ill-defined and being set to 0.0 in labels with no true samples. Use `zero_division` parameter to control this behavior.\n",
      "  _warn_prf(average, modifier, f\"{metric.capitalize()} is\", len(result))\n",
      "/Users/asmitganguly/miniconda3/envs/mlx/lib/python3.12/site-packages/sklearn/metrics/_classification.py:1509: UndefinedMetricWarning: Recall is ill-defined and being set to 0.0 in labels with no true samples. Use `zero_division` parameter to control this behavior.\n",
      "  _warn_prf(average, modifier, f\"{metric.capitalize()} is\", len(result))\n",
      "/Users/asmitganguly/miniconda3/envs/mlx/lib/python3.12/site-packages/sklearn/metrics/_classification.py:1509: UndefinedMetricWarning: Recall is ill-defined and being set to 0.0 in labels with no true samples. Use `zero_division` parameter to control this behavior.\n",
      "  _warn_prf(average, modifier, f\"{metric.capitalize()} is\", len(result))\n",
      "/Users/asmitganguly/miniconda3/envs/mlx/lib/python3.12/site-packages/sklearn/metrics/_classification.py:1509: UndefinedMetricWarning: Precision is ill-defined and being set to 0.0 in labels with no predicted samples. Use `zero_division` parameter to control this behavior.\n",
      "  _warn_prf(average, modifier, f\"{metric.capitalize()} is\", len(result))\n",
      "/Users/asmitganguly/miniconda3/envs/mlx/lib/python3.12/site-packages/sklearn/metrics/_classification.py:1509: UndefinedMetricWarning: Recall is ill-defined and being set to 0.0 in labels with no true samples. Use `zero_division` parameter to control this behavior.\n",
      "  _warn_prf(average, modifier, f\"{metric.capitalize()} is\", len(result))\n",
      "/Users/asmitganguly/miniconda3/envs/mlx/lib/python3.12/site-packages/sklearn/metrics/_classification.py:1509: UndefinedMetricWarning: Precision is ill-defined and being set to 0.0 in labels with no predicted samples. Use `zero_division` parameter to control this behavior.\n",
      "  _warn_prf(average, modifier, f\"{metric.capitalize()} is\", len(result))\n",
      "/Users/asmitganguly/miniconda3/envs/mlx/lib/python3.12/site-packages/sklearn/metrics/_classification.py:1509: UndefinedMetricWarning: Precision is ill-defined and being set to 0.0 in labels with no predicted samples. Use `zero_division` parameter to control this behavior.\n",
      "  _warn_prf(average, modifier, f\"{metric.capitalize()} is\", len(result))\n",
      "/Users/asmitganguly/miniconda3/envs/mlx/lib/python3.12/site-packages/sklearn/metrics/_classification.py:1509: UndefinedMetricWarning: Recall is ill-defined and being set to 0.0 in labels with no true samples. Use `zero_division` parameter to control this behavior.\n",
      "  _warn_prf(average, modifier, f\"{metric.capitalize()} is\", len(result))\n",
      "/Users/asmitganguly/miniconda3/envs/mlx/lib/python3.12/site-packages/sklearn/metrics/_classification.py:1509: UndefinedMetricWarning: Precision is ill-defined and being set to 0.0 in labels with no predicted samples. Use `zero_division` parameter to control this behavior.\n",
      "  _warn_prf(average, modifier, f\"{metric.capitalize()} is\", len(result))\n",
      "/Users/asmitganguly/miniconda3/envs/mlx/lib/python3.12/site-packages/sklearn/metrics/_classification.py:1509: UndefinedMetricWarning: Recall is ill-defined and being set to 0.0 in labels with no true samples. Use `zero_division` parameter to control this behavior.\n",
      "  _warn_prf(average, modifier, f\"{metric.capitalize()} is\", len(result))\n"
     ]
    },
    {
     "name": "stdout",
     "output_type": "stream",
     "text": [
      "Valid loss: 0.64\n",
      "Valid accuracy: 86.09\n",
      "Total training time: 5.0 seconds\n",
      "{'precision': [array([0., 1., 0., 0., 1.]), array([1., 1., 1.]), array([0., 1., 1.]), array([1., 1., 0., 0.]), array([1., 1., 1.]), array([1., 0., 1.]), array([1., 1., 1.]), array([1., 1.]), array([1. , 0.5, 1. ]), array([0., 1., 1., 1.]), array([1., 1., 1., 1.]), array([1., 1., 1.]), array([1., 1.]), array([1. , 1. , 0.5]), array([1., 1.]), array([0., 1., 0.]), array([1.        , 0.66666667, 0.        ]), array([1., 1., 1.]), array([1., 1., 1.]), array([0.        , 1.        , 0.66666667]), array([1., 1., 1.]), array([0., 1., 1.]), array([1., 1.]), array([0.5, 0. , 1. ]), array([1., 1., 1.]), array([0., 0., 0., 1., 1.]), array([1., 1., 1.]), array([1., 1., 1.]), array([1., 1.])], 'recall': [array([0., 1., 0., 0., 1.]), array([1., 1., 1.]), array([0. , 0.5, 1. ]), array([1., 1., 0., 0.]), array([1., 1., 1.]), array([0.5, 0. , 1. ]), array([1., 1., 1.]), array([1., 1.]), array([0.5, 1. , 1. ]), array([0. , 1. , 1. , 0.5]), array([1., 1., 1., 1.]), array([1., 1., 1.]), array([1., 1.]), array([0.5, 1. , 1. ]), array([1., 1.]), array([0., 1., 0.]), array([1., 1., 0.]), array([1., 1., 1.]), array([1., 1., 1.]), array([0., 1., 1.]), array([1., 1., 1.]), array([0.        , 0.66666667, 1.        ]), array([1., 1.]), array([0.5, 0. , 1. ]), array([1., 1., 1.]), array([0., 0., 0., 1., 1.]), array([1., 1., 1.]), array([1., 1., 1.]), array([1., 1.])], 'f1': [array([0., 1., 0., 0., 1.]), array([1., 1., 1.]), array([0.        , 0.66666667, 1.        ]), array([1., 1., 0., 0.]), array([1., 1., 1.]), array([0.66666667, 0.        , 1.        ]), array([1., 1., 1.]), array([1., 1.]), array([0.66666667, 0.66666667, 1.        ]), array([0.        , 1.        , 1.        , 0.66666667]), array([1., 1., 1., 1.]), array([1., 1., 1.]), array([1., 1.]), array([0.66666667, 1.        , 0.66666667]), array([1., 1.]), array([0., 1., 0.]), array([1. , 0.8, 0. ]), array([1., 1., 1.]), array([1., 1., 1.]), array([0. , 1. , 0.8]), array([1., 1., 1.]), array([0. , 0.8, 1. ]), array([1., 1.]), array([0.5, 0. , 1. ]), array([1., 1., 1.]), array([0., 0., 0., 1., 1.]), array([1., 1., 1.]), array([1., 1., 1.]), array([1., 1.])], 'predictions': [array([4, 3, 2, 1]), array([4, 3, 1, 4]), array([2, 1, 4, 4]), array([0, 0, 4, 1]), array([4, 2, 4, 1]), array([4, 2, 3, 4]), array([4, 2, 3, 4]), array([1, 4, 4, 4]), array([4, 3, 3, 2]), array([1, 0, 3, 2]), array([0, 3, 4, 1]), array([2, 4, 1, 1]), array([3, 4, 4, 4]), array([0, 4, 1, 4]), array([4, 3, 4, 4]), array([3, 3, 3, 1]), array([2, 2, 1, 2]), array([1, 4, 3, 4]), array([4, 4, 0, 3]), array([4, 3, 4, 4]), array([4, 2, 4, 3]), array([0, 1, 1, 3]), array([1, 2, 2, 1]), array([4, 3, 2, 2]), array([1, 4, 2, 4]), array([1, 3, 2, 4]), array([4, 0, 2, 4]), array([2, 1, 3, 1]), array([4, 4, 0])], 'targets': [array([4, 2, 0, 1]), array([4, 3, 1, 4]), array([2, 2, 4, 4]), array([0, 0, 2, 1]), array([4, 2, 4, 1]), array([4, 2, 2, 4]), array([4, 2, 3, 4]), array([1, 4, 4, 4]), array([4, 2, 3, 2]), array([1, 3, 3, 2]), array([0, 3, 4, 1]), array([2, 4, 1, 1]), array([3, 4, 4, 4]), array([0, 0, 1, 4]), array([4, 3, 4, 4]), array([3, 3, 3, 4]), array([3, 2, 1, 2]), array([1, 4, 3, 4]), array([4, 4, 0, 3]), array([0, 3, 4, 4]), array([4, 2, 4, 3]), array([1, 1, 1, 3]), array([1, 2, 2, 1]), array([4, 2, 3, 2]), array([1, 4, 2, 4]), array([0, 3, 1, 4]), array([4, 0, 2, 4]), array([2, 1, 3, 1]), array([4, 4, 0])]}\n"
     ]
    }
   ],
   "source": [
    "net, results = test(net, train_dataloader, valid_dataloader, criterion, optimizer, None, 1, device,chk=\"/Users/asmitganguly/Developer/internships/UWaterloo-24/code/model/kan/weights/oct/checkpoint.pth.tar\")\n",
    "print(results)"
   ]
  },
  {
   "cell_type": "code",
   "execution_count": 15,
   "metadata": {},
   "outputs": [
    {
     "data": {
      "image/png": "[encoded data removed]",
      "text/plain": [
       "<Figure size 800x600 with 2 Axes>"
      ]
     },
     "metadata": {},
     "output_type": "display_data"
    }
   ],
   "source": [
    "result_final = {\n",
    "    'precision': [],\n",
    "    'recall': [],\n",
    "    'f1': [],\n",
    "    'predictions': [],\n",
    "    'targets': []\n",
    "}\n",
    "\n",
    "for k in results.keys():\n",
    "    for ll in results[k]:\n",
    "        for ele in ll:\n",
    "            result_final[k].append(ele)\n",
    "            \n",
    "# print(result_final)\n",
    "\n",
    "from sklearn.metrics import confusion_matrix\n",
    "import matplotlib.pyplot as plt\n",
    "import seaborn as sns\n",
    "\n",
    "cm = confusion_matrix(result_final[\"targets\"], result_final[\"predictions\"])\n",
    "\n",
    "# display the confusion matrix as a heatmap\n",
    "plt.figure(figsize=(8, 6))\n",
    "sns.heatmap(cm, annot=True, cmap=\"YlGnBu\", fmt=\"d\")\n",
    "plt.xlabel(\"Predicted labels\")\n",
    "plt.ylabel(\"True labels\")\n",
    "plt.title(\"Confusion Matrix\")\n",
    "plt.show()"
   ]
  },
  {
   "cell_type": "code",
   "execution_count": 16,
   "metadata": {},
   "outputs": [
    {
     "name": "stderr",
     "output_type": "stream",
     "text": [
      "100%|██████████| 29/29 [00:04<00:00,  5.85it/s]"
     ]
    },
    {
     "name": "stdout",
     "output_type": "stream",
     "text": [
      "Test Loss: 0.0060\n",
      "Test Accuracy of Age_related_Macular_Degeneration: 72% ( 8/11)\n",
      "Test Accuracy of Central_serous: 71% (15/21)\n",
      "Test Accuracy of Diabetic: 77% (17/22)\n",
      "Test Accuracy of Macular_Hole: 70% (14/20)\n",
      "Test Accuracy of Normal: 97% (40/41)\n",
      "Test Accuracy of 81% (94/115)\n"
     ]
    },
    {
     "name": "stderr",
     "output_type": "stream",
     "text": [
      "\n"
     ]
    }
   ],
   "source": [
    "test_loss = 0.0\n",
    "classes = list(pd.read_csv(\"/Users/asmitganguly/Developer/internships/UWaterloo-24/code/data/train_data.csv\")[\"class\"].unique())\n",
    "class_correct = list(0 for i in range(len(classes)))\n",
    "class_total = list(0 for i in range(len(classes)))\n",
    "net.eval()\n",
    "\n",
    "for data, target in tqdm(valid_dataloader):\n",
    "    data, target = data.to(torch.float32).mean(dim=1, keepdim=True).to(device), target.argmax(dim=1).to(torch.int64).to(device)\n",
    "    with torch.no_grad(): # turn off autograd for faster testing\n",
    "        output = net(data)\n",
    "        loss = criterion(output, target)\n",
    "    test_loss = loss.item() * data.size(0)\n",
    "    _, pred = torch.max(output, 1)\n",
    "    correct_tensor = pred.eq(target.data.view_as(pred))\n",
    "    correct = np.squeeze(correct_tensor.cpu().numpy())\n",
    "    # print(len(target))\n",
    "    for i in range(len(target)):\n",
    "        label = target.data[i]\n",
    "        class_correct[label] += correct[i].item()\n",
    "        class_total[label] += 1\n",
    "\n",
    "test_loss = test_loss / (len(valid_dataloader)*4)\n",
    "print('Test Loss: {:.4f}'.format(test_loss))\n",
    "for i in range(len(classes)):\n",
    "    if class_total[i] > 0:\n",
    "        print(\"Test Accuracy of %5s: %2d%% (%2d/%2d)\" % (\n",
    "            classes[i], 100*class_correct[i]/class_total[i], np.sum(class_correct[i]), np.sum(class_total[i])\n",
    "        ))\n",
    "    else:\n",
    "        print(\"Test accuracy of %5s: NA\" % (classes[i]))\n",
    "print(\"Test Accuracy of %2d%% (%2d/%2d)\" % (\n",
    "            100*np.sum(class_correct)/np.sum(class_total), np.sum(class_correct), np.sum(class_total)\n",
    "        ))"
   ]
  },
  {
   "cell_type": "code",
   "execution_count": 17,
   "metadata": {},
   "outputs": [],
   "source": [
    "# import time\n",
    "# from sklearn.metrics import precision_score, recall_score, f1_score\n",
    "\n",
    "# def test(net, train_dataloader, valid_dataloader, criterion, optimizer, scheduler=None, epochs=10, device='mps', checkpoint_epochs=10):\n",
    "#     classes = list(pd.read_csv(\"/Users/asmitganguly/Developer/internships/UWaterloo-24/code/data/train_data.csv\")[\"class\"].unique())\n",
    "#     class_correct = list(0 for i in range(len(classes)))\n",
    "#     class_total = list(0 for i in range(len(classes)))\n",
    "#     start = time.time()\n",
    "#     print(f'Training for {epochs} epochs on {device}')\n",
    "#     results = {\n",
    "#         'precision': [],\n",
    "#         'recall': [],\n",
    "#         'f1': [],\n",
    "#         'predictions': [],\n",
    "#         'targets': []\n",
    "#     }\n",
    "#     if valid_dataloader is not None:\n",
    "#         net.eval()  # put network in train mode for Dropout and Batch Normalization\n",
    "#         valid_loss = torch.tensor(0., device=device)\n",
    "#         valid_accuracy = torch.tensor(0., device=device)\n",
    "#         with torch.no_grad():\n",
    "#             for X, y in valid_dataloader:\n",
    "#                 X = X.to(torch.float32).to(device)\n",
    "#                 y = y.to(torch.float32).to(device)\n",
    "#                 target = y.argmax(dim=1).to(torch.int64).to(device)\n",
    "#                 preds = net(X)\n",
    "#                 # print(preds.shape, y.shape)\n",
    "#                 # loss = criterion(preds, y)\n",
    "#                 _, pred = torch.max(preds, 1)\n",
    "#                 # print(pred)\n",
    "#                 # print(target)\n",
    "#                 # print(y)\n",
    "#                 correct_tensor = pred.eq(target.data.view_as(pred))\n",
    "#                 correct = np.squeeze(correct_tensor.cpu().numpy())\n",
    "#                 # print(len(target))\n",
    "#                 # print(len(y))\n",
    "#                 for i in range(len(y)):\n",
    "#                     label = target.data[i]\n",
    "#                     class_correct[label] += correct[i].item()\n",
    "#                     class_total[label] += 1\n",
    "\n",
    "            \n",
    "                \n",
    "                \n",
    "#                 # valid_loss += loss * valid_dataloader.batch_size\n",
    "#                 valid_accuracy += (torch.argmax(preds, dim=1) == torch.argmax(y, dim=1)).sum()\n",
    "                \n",
    "#                 all_predictions = torch.argmax(preds, dim=1).cpu().numpy()\n",
    "#                 all_targets = torch.argmax(y, dim=1).cpu().numpy()\n",
    "#                 precision = precision_score(all_targets, all_predictions, average=None)\n",
    "#                 recall = recall_score(all_targets, all_predictions, average=None)\n",
    "#                 f1 = f1_score(all_targets, all_predictions, average=None)\n",
    "                \n",
    "#                 results['precision'].append(precision)\n",
    "#                 results['recall'].append(recall)\n",
    "#                 results['f1'].append(f1)\n",
    "#                 results['predictions'].append(all_predictions)\n",
    "#                 results['targets'].append(all_targets)\n",
    "    \n",
    "#     if valid_dataloader is not None:\n",
    "#         # print(f'Valid loss: {valid_loss/len(valid_dataloader.dataset):.2f}')\n",
    "#         print(f'Valid accuracy: {100*valid_accuracy/len(valid_dataloader.dataset):.2f}')\n",
    "#     for i in range(len(classes)):\n",
    "#         if class_total[i] > 0:\n",
    "#             print(\"Test Accuracy of %5s: %2d%% (%2d/%2d)\" % (\n",
    "#                 classes[i], 100*class_correct[i]/class_total[i], np.sum(class_correct[i]), np.sum(class_total[i])\n",
    "#             ))\n",
    "#         else:\n",
    "#             print(\"Test accuracy of %5s: NA\" % (classes[i]))\n",
    "#     print(\"Test Accuracy of %2d%% (%2d/%2d)\" % (\n",
    "#                 100*np.sum(class_correct)/np.sum(class_total), np.sum(class_correct), np.sum(class_total)\n",
    "#             ))\n",
    "    \n",
    "#     end = time.time()\n",
    "#     print(f'Total training time: {end-start:.1f} seconds')\n",
    "#     return net, results\n",
    "\n",
    "# net, results = test(net, train_dataloader, valid_dataloader, criterion, optimizer, None, 1, device,chk=\"/Users/asmitganguly/Developer/internships/UWaterloo-24/code/model/kan/weights/oct/checkpoint.pth.tar\")\n",
    "\n",
    "# # print(results)\n",
    "\n",
    "\n",
    "# result_final = {\n",
    "#     'precision': [],\n",
    "#     'recall': [],\n",
    "#     'f1': [],\n",
    "#     'predictions': [],\n",
    "#     'targets': []\n",
    "# }\n",
    "\n",
    "# for k in results.keys():\n",
    "#     for ll in results[k]:\n",
    "#         for ele in ll:\n",
    "#             result_final[k].append(ele)\n",
    "            \n",
    "# # print(result_final)\n",
    "\n",
    "# from sklearn.metrics import confusion_matrix\n",
    "# import matplotlib.pyplot as plt\n",
    "# import seaborn as sns\n",
    "\n",
    "# cm = confusion_matrix(result_final[\"targets\"], result_final[\"predictions\"])\n",
    "\n",
    "# # display the confusion matrix as a heatmap\n",
    "# plt.figure(figsize=(8, 6))\n",
    "# sns.heatmap(cm, annot=True, cmap=\"YlGnBu\", fmt=\"d\")\n",
    "# plt.xlabel(\"Predicted labels\")\n",
    "# plt.ylabel(\"True labels\")\n",
    "# plt.title(\"Confusion Matrix\")\n",
    "# plt.show()"
   ]
  },
  {
   "cell_type": "code",
   "execution_count": 18,
   "metadata": {},
   "outputs": [
    {
     "name": "stderr",
     "output_type": "stream",
     "text": [
      "100%|██████████| 115/115 [00:17<00:00,  6.52it/s]"
     ]
    },
    {
     "name": "stdout",
     "output_type": "stream",
     "text": [
      "Test Loss: 0.0000\n",
      "Test Accuracy of Age_related_Macular_Degeneration: 100% (44/44)\n",
      "Test Accuracy of Central_serous: 98% (80/81)\n",
      "Test Accuracy of Diabetic: 100% (85/85)\n",
      "Test Accuracy of Macular_Hole: 100% (81/81)\n",
      "Test Accuracy of Normal: 100% (165/165)\n",
      "Test Accuracy of 99% (455/456)\n"
     ]
    },
    {
     "name": "stderr",
     "output_type": "stream",
     "text": [
      "\n"
     ]
    }
   ],
   "source": [
    "test_loss = 0.0\n",
    "classes = list(pd.read_csv(\"/Users/asmitganguly/Developer/internships/UWaterloo-24/code/data/train_data.csv\")[\"class\"].unique())\n",
    "class_correct = list(0 for i in range(len(classes)))\n",
    "class_total = list(0 for i in range(len(classes)))\n",
    "net.eval()\n",
    "\n",
    "for data, target in tqdm(train_dataloader):\n",
    "    data, target = data.to(torch.float32).mean(dim=1, keepdim=True).to(device), target.argmax(dim=1).to(torch.int64).to(device)\n",
    "    with torch.no_grad(): # turn off autograd for faster testing\n",
    "        output = net(data)\n",
    "        loss = criterion(output, target)\n",
    "    test_loss = loss.item() * data.size(0)\n",
    "    _, pred = torch.max(output, 1)\n",
    "    correct_tensor = pred.eq(target.data.view_as(pred))\n",
    "    correct = np.squeeze(correct_tensor.cpu().numpy())\n",
    "    # print(len(target))\n",
    "    if len(target) == 4:\n",
    "        for i in range(4):\n",
    "            label = target.data[i]\n",
    "            class_correct[label] += correct[i].item()\n",
    "            class_total[label] += 1\n",
    "\n",
    "test_loss = test_loss / (len(train_dataloader)*4)\n",
    "print('Test Loss: {:.4f}'.format(test_loss))\n",
    "for i in range(len(classes)):\n",
    "    if class_total[i] > 0:\n",
    "        print(\"Test Accuracy of %5s: %2d%% (%2d/%2d)\" % (\n",
    "            classes[i], 100*class_correct[i]/class_total[i], np.sum(class_correct[i]), np.sum(class_total[i])\n",
    "        ))\n",
    "    else:\n",
    "        print(\"Test accuracy of %5s: NA\" % (classes[i]))\n",
    "print(\"Test Accuracy of %2d%% (%2d/%2d)\" % (\n",
    "            100*np.sum(class_correct)/np.sum(class_total), np.sum(class_correct), np.sum(class_total)\n",
    "        ))"
   ]
  },
  {
   "cell_type": "markdown",
   "metadata": {},
   "source": [
    "### Explainability"
   ]
  },
  {
   "cell_type": "code",
   "execution_count": 19,
   "metadata": {},
   "outputs": [],
   "source": [
    "def get_2d_projection(activation_batch):\n",
    "    # TBD: use pytorch batch svd implementation\n",
    "    activation_batch[np.isnan(activation_batch)] = 0\n",
    "    projections = []\n",
    "    for activations in activation_batch:\n",
    "        reshaped_activations = (activations).reshape(\n",
    "            activations.shape[0], -1).transpose()\n",
    "        # Centering before the SVD seems to be important here,\n",
    "        # Otherwise the image returned is negative\n",
    "        reshaped_activations = reshaped_activations - \\\n",
    "            reshaped_activations.mean(axis=0)\n",
    "        U, S, VT = np.linalg.svd(reshaped_activations, full_matrices=True)\n",
    "        projection = reshaped_activations @ VT[0, :]\n",
    "        projection = projection.reshape(activations.shape[1:])\n",
    "        projections.append(projection)\n",
    "    return np.float32(projections)"
   ]
  },
  {
   "cell_type": "code",
   "execution_count": 20,
   "metadata": {},
   "outputs": [],
   "source": [
    "# input_tensor, label = TrainDataset.__getitem__(0)\n",
    "# input_tensor =  torch.tensor(input_tensor).to(torch.float32)\n",
    "# label =  torch.tensor(label).to(torch.float32)\n",
    "# input_tensor = input_tensor.unsqueeze(dim=0).mean(dim=1, keepdim=True).to(device)\n",
    "# act = model_feature.get_act(input_tensor)"
   ]
  },
  {
   "cell_type": "code",
   "execution_count": 21,
   "metadata": {},
   "outputs": [],
   "source": [
    "# act.shape"
   ]
  },
  {
   "cell_type": "code",
   "execution_count": 22,
   "metadata": {},
   "outputs": [],
   "source": [
    "# # act = act.unsqueeze(dim=0)\n",
    "# for i in range(5):\n",
    "#     aa=act[:,i,:,:].cpu().detach().numpy()\n",
    "#     print(aa.shape)\n",
    "#     proj = get_2d_projection(aa)\n",
    "#     plt.imshow((aa*proj[:,np.newaxis,:])[0])\n",
    "#     plt.show()"
   ]
  },
  {
   "cell_type": "code",
   "execution_count": 23,
   "metadata": {},
   "outputs": [],
   "source": [
    "# from pytorch_grad_cam import GradCAM, HiResCAM, ScoreCAM, GradCAMPlusPlus, AblationCAM, XGradCAM, EigenCAM, FullGrad\n",
    "# from pytorch_grad_cam.utils.model_targets import ClassifierOutputTarget\n",
    "# from pytorch_grad_cam.utils.image import show_cam_on_image\n",
    "# from torchvision.models import resnet50\n",
    "\n",
    "# # model = resnet50(pretrained=True)\n",
    "# target_layers = [net.model_feature.conv1]\n",
    "# input_tensor, label = TrainDataset.__getitem__(0)\n",
    "# input_tensor =  torch.tensor(input_tensor).to(torch.float32)\n",
    "# label =  torch.tensor(label).to(torch.float32)\n",
    "# # Note: input_tensor can be a batch tensor with several images!\n",
    "\n",
    "# # Construct the CAM object once, and then re-use it on many images:\n",
    "# # cam = GradCAM(model=net, target_layers=target_layers)\n",
    "# visuals = []\n",
    "\n",
    "# for cam in [GradCAM, GradCAMPlusPlus, AblationCAM, XGradCAM, EigenCAM, FullGrad]:\n",
    "#     cam = cam(model=net, target_layers=target_layers)\n",
    "#     print(input_tensor.mean(dim=0).unsqueeze(dim=0).shape)\n",
    "#     grayscale_cam = cam(input_tensor=input_tensor.mean(dim=0).unsqueeze(dim=0), targets=None)\n",
    "#     grayscale_cam = grayscale_cam[0, :]\n",
    "#     array = input_tensor.numpy()\n",
    "#     array = np.transpose(array, (1, 2, 0))\n",
    "#     min_val, max_val = np.min(array), np.max(array)\n",
    "#     visualization = show_cam_on_image((array - min_val) / (max_val - min_val), grayscale_cam, use_rgb=False)\n",
    "#     visuals.append(visualization)\n",
    "    \n",
    "    \n",
    "# # cam = HiResCAM(model=net, target_layers=target_layers)\n",
    "\n",
    "# # You can also use it within a with statement, to make sure it is freed,\n",
    "# # In case you need to re-create it inside an outer loop:\n",
    "# # with GradCAM(model=model, target_layers=target_layers) as cam:\n",
    "# #   ...\n",
    "\n",
    "# # We have to specify the target we want to generate\n",
    "# # the Class Activation Maps for.\n",
    "# # If targets is None, the highest scoring category\n",
    "# # will be used for every image in the batch.\n",
    "# # Here we use ClassifierOutputTarget, but you can define your own custom targets\n",
    "# # That are, for example, combinations of categories, or specific outputs in a non standard model.\n",
    "\n",
    "# # targets = None\n",
    "# # # You can also pass aug_smooth=True and eigen_smooth=True, to apply smoothing.\n",
    "# # grayscale_cam = cam(input_tensor=input_tensor.unsqueeze(dim=0), targets=targets)\n",
    "\n",
    "# # # In this example grayscale_cam has only one image in the batch:\n",
    "# # grayscale_cam = grayscale_cam[0, :]\n",
    "# # array = input_tensor.numpy()\n",
    "# # array = np.transpose(array, (1, 2, 0))\n",
    "# # min_val, max_val = np.min(array), np.max(array)\n",
    "# # visualization = show_cam_on_image((array - min_val) / (max_val - min_val), grayscale_cam, use_rgb=False)\n",
    "\n",
    "# # # You can also get the model outputs without having to re-inference\n",
    "# # model_outputs = cam.outputs\n",
    "\n",
    "# # from matplotlib import pyplot as plt\n",
    "# # plt.imshow(visualization)\n",
    "# # plt.show()\n",
    "\n",
    "# for vis in visuals:\n",
    "    \n",
    "#     plt.imshow(vis)\n",
    "#     plt.show()"
   ]
  },
  {
   "cell_type": "code",
   "execution_count": 24,
   "metadata": {},
   "outputs": [],
   "source": [
    "# # from matplotlib import pyplot as plt\n",
    "# # plt.imshow(visualization)\n",
    "# # plt.show()\n",
    "\n",
    "# for vis in visuals:\n",
    "    \n",
    "#     plt.imshow(vis)\n",
    "#     plt.show()"
   ]
  },
  {
   "cell_type": "code",
   "execution_count": 25,
   "metadata": {},
   "outputs": [
    {
     "data": {
      "text/plain": [
       "326570"
      ]
     },
     "execution_count": 25,
     "metadata": {},
     "output_type": "execute_result"
    }
   ],
   "source": [
    "def count_parameters(model):\n",
    "    return sum(p.numel() for p in model.parameters() if p.requires_grad)\n",
    "\n",
    "count_parameters(net)"
   ]
  },
  {
   "cell_type": "code",
   "execution_count": null,
   "metadata": {},
   "outputs": [],
   "source": []
  }
 ],
 "metadata": {
  "kernelspec": {
   "display_name": "mlx",
   "language": "python",
   "name": "python3"
  },
  "language_info": {
   "codemirror_mode": {
    "name": "ipython",
    "version": 3
   },
   "file_extension": ".py",
   "mimetype": "text/x-python",
   "name": "python",
   "nbconvert_exporter": "python",
   "pygments_lexer": "ipython3",
   "version": "3.12.0"
  }
 },
 "nbformat": 4,
 "nbformat_minor": 2
}
